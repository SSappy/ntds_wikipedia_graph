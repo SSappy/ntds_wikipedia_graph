{
 "cells": [
  {
   "cell_type": "code",
   "execution_count": 1,
   "metadata": {},
   "outputs": [],
   "source": [
    "import wikipedia\n",
    "import requests\n",
    "from bs4 import BeautifulSoup\n",
    "import warnings\n",
    "\n",
    "%matplotlib inline\n",
    "\n",
    "warnings.simplefilter(action='ignore', category=UserWarning)"
   ]
  },
  {
   "cell_type": "markdown",
   "metadata": {},
   "source": [
    "# Scraping"
   ]
  },
  {
   "cell_type": "code",
   "execution_count": 2,
   "metadata": {
    "collapsed": true
   },
   "outputs": [],
   "source": [
    "origin = '/wiki/Jaguar_(disambiguation)'"
   ]
  },
  {
   "cell_type": "code",
   "execution_count": 3,
   "metadata": {
    "collapsed": true
   },
   "outputs": [],
   "source": [
    "neighbors = {}"
   ]
  },
  {
   "cell_type": "code",
   "execution_count": 4,
   "metadata": {
    "collapsed": true
   },
   "outputs": [],
   "source": [
    "def find_inner_links(page_link):\n",
    "    soup = BeautifulSoup(requests.get('https://en.wikipedia.org'+page_link).text)\n",
    "    links = []\n",
    "    l = soup.find_all('li')\n",
    "    for i in l:\n",
    "        tmp = i.find_all('a')\n",
    "        for ii in tmp:\n",
    "            try:\n",
    "                if '/wiki/' == ii['href'][0:6]:\n",
    "                    links.append(ii['href'])\n",
    "            except KeyError:\n",
    "                pass\n",
    "    return links"
   ]
  },
  {
   "cell_type": "code",
   "execution_count": 5,
   "metadata": {
    "collapsed": true
   },
   "outputs": [],
   "source": [
    "first_nodes = set(find_inner_links(origin))\n",
    "neighbors[origin] = first_nodes"
   ]
  },
  {
   "cell_type": "code",
   "execution_count": 6,
   "metadata": {
    "collapsed": true
   },
   "outputs": [],
   "source": [
    "second_nodes = set()\n",
    "for link in first_nodes:\n",
    "    tmp = find_inner_links(link)\n",
    "    neighbors[link] = tmp\n",
    "    second_nodes = second_nodes.union(set(tmp))"
   ]
  },
  {
   "cell_type": "code",
   "execution_count": 7,
   "metadata": {
    "collapsed": true
   },
   "outputs": [],
   "source": [
    "nodes = first_nodes.union(second_nodes)\n",
    "nodes.add(origin)"
   ]
  },
  {
   "cell_type": "code",
   "execution_count": 8,
   "metadata": {},
   "outputs": [
    {
     "name": "stdout",
     "output_type": "stream",
     "text": [
      "100/8745\n",
      "200/8745\n",
      "300/8745\n",
      "400/8745\n",
      "500/8745\n",
      "600/8745\n",
      "700/8745\n",
      "800/8745\n",
      "900/8745\n",
      "1000/8745\n",
      "1100/8745\n",
      "1200/8745\n",
      "1300/8745\n",
      "1400/8745\n",
      "1500/8745\n",
      "1600/8745\n",
      "1700/8745\n",
      "1800/8745\n",
      "1900/8745\n",
      "2000/8745\n",
      "2100/8745\n",
      "2200/8745\n",
      "2300/8745\n",
      "2400/8745\n",
      "2500/8745\n",
      "2600/8745\n",
      "2700/8745\n",
      "2800/8745\n",
      "2900/8745\n",
      "3000/8745\n",
      "3100/8745\n",
      "3200/8745\n",
      "3300/8745\n",
      "3400/8745\n",
      "3500/8745\n",
      "3600/8745\n",
      "3700/8745\n",
      "3800/8745\n",
      "3900/8745\n",
      "4000/8745\n",
      "4100/8745\n",
      "4200/8745\n",
      "4300/8745\n",
      "4400/8745\n",
      "4500/8745\n",
      "4600/8745\n",
      "4700/8745\n",
      "4800/8745\n",
      "4900/8745\n",
      "5000/8745\n",
      "5100/8745\n",
      "5200/8745\n",
      "5300/8745\n",
      "5400/8745\n",
      "5500/8745\n",
      "5600/8745\n",
      "5700/8745\n",
      "5800/8745\n",
      "5900/8745\n",
      "6000/8745\n",
      "6100/8745\n",
      "6200/8745\n",
      "6300/8745\n",
      "6400/8745\n",
      "6500/8745\n",
      "6600/8745\n",
      "6700/8745\n",
      "6800/8745\n",
      "6900/8745\n",
      "7000/8745\n",
      "7100/8745\n",
      "7200/8745\n",
      "7300/8745\n",
      "7400/8745\n",
      "7500/8745\n",
      "7600/8745\n",
      "7700/8745\n",
      "7800/8745\n",
      "7900/8745\n",
      "8000/8745\n",
      "8100/8745\n",
      "8200/8745\n",
      "8300/8745\n",
      "8400/8745\n",
      "8500/8745\n",
      "8600/8745\n",
      "8700/8745\n"
     ]
    }
   ],
   "source": [
    "counter = 0\n",
    "for link in second_nodes:\n",
    "    counter += 1\n",
    "    if counter % 100 == 0:\n",
    "        print('{}/{}'.format(counter, len(second_nodes)))\n",
    "    tmp = find_inner_links(link)\n",
    "    neighbors[link] = list(set(tmp).intersection(nodes))"
   ]
  },
  {
   "cell_type": "code",
   "execution_count": 11,
   "metadata": {
    "collapsed": true
   },
   "outputs": [],
   "source": [
    "s = 0\n",
    "for i in neighbors.keys():\n",
    "    s += len(neighbors[i])"
   ]
  },
  {
   "cell_type": "code",
   "execution_count": 12,
   "metadata": {},
   "outputs": [
    {
     "name": "stdout",
     "output_type": "stream",
     "text": [
      "Total number of nodes : 8745\n",
      "Number of first nodes : 73\n",
      "Number of second nodes : 8745\n",
      "Number of edges : 859184\n"
     ]
    }
   ],
   "source": [
    "print('Total number of nodes : {}'.format(len(nodes)))\n",
    "print('Number of first nodes : {}'.format(len(first_nodes)))\n",
    "print('Number of second nodes : {}'.format(len(second_nodes)))\n",
    "print('Number of edges : {}'.format(s))"
   ]
  },
  {
   "cell_type": "markdown",
   "metadata": {},
   "source": [
    "# Network creation"
   ]
  },
  {
   "cell_type": "code",
   "execution_count": 3,
   "metadata": {},
   "outputs": [],
   "source": [
    "import networkx as nx"
   ]
  },
  {
   "cell_type": "markdown",
   "metadata": {},
   "source": [
    "## Saving"
   ]
  },
  {
   "cell_type": "code",
   "execution_count": 6,
   "metadata": {},
   "outputs": [],
   "source": [
    "import pickle\n",
    "\n",
    "def save_obj(obj, name ):\n",
    "    with open('data/'+ name + '.pkl', 'wb') as f:\n",
    "        pickle.dump(obj, f, pickle.HIGHEST_PROTOCOL)\n",
    "\n",
    "def load_obj(name ):\n",
    "    with open('data/' + name + '.pkl', 'rb') as f:\n",
    "        return pickle.load(f)"
   ]
  },
  {
   "cell_type": "code",
   "execution_count": null,
   "metadata": {},
   "outputs": [],
   "source": [
    "save_obj(nodes, 'nodes')\n",
    "save_obj(first_nodes, 'first_nodes')\n",
    "save_obj(second_nodes, 'second_nodes')\n",
    "save_obj(neighbors, 'neighbors')"
   ]
  },
  {
   "cell_type": "markdown",
   "metadata": {},
   "source": [
    "## Loading"
   ]
  },
  {
   "cell_type": "code",
   "execution_count": 7,
   "metadata": {},
   "outputs": [],
   "source": [
    "nodes = load_obj('nodes')\n",
    "first_nodes = load_obj('first_nodes')\n",
    "second_nodes = load_obj('second_nodes')\n",
    "neighbors = load_obj('neighbors')"
   ]
  },
  {
   "cell_type": "code",
   "execution_count": 8,
   "metadata": {},
   "outputs": [
    {
     "data": {
      "text/plain": [
       "'/wiki/File:Cathedral_(Siena)_-_Dome_interior.jpg'"
      ]
     },
     "execution_count": 8,
     "metadata": {},
     "output_type": "execute_result"
    }
   ],
   "source": [
    "nodes = list(nodes)\n",
    "nodes[0]"
   ]
  },
  {
   "cell_type": "code",
   "execution_count": 9,
   "metadata": {},
   "outputs": [],
   "source": [
    "#directed :\n",
    "#g = nx.DiGraph(neighbors)\n",
    "\n",
    "#undirected :\n",
    "g = nx.Graph(neighbors)"
   ]
  },
  {
   "cell_type": "code",
   "execution_count": 45,
   "metadata": {},
   "outputs": [
    {
     "data": {
      "text/plain": [
       "<8745x8745 sparse matrix of type '<class 'numpy.int64'>'\n",
       "\twith 1166629 stored elements in Compressed Sparse Row format>"
      ]
     },
     "execution_count": 45,
     "metadata": {},
     "output_type": "execute_result"
    }
   ],
   "source": [
    "adj = nx.adjacency_matrix(g)\n",
    "adj"
   ]
  },
  {
   "cell_type": "code",
   "execution_count": 48,
   "metadata": {},
   "outputs": [
    {
     "data": {
      "text/plain": [
       "<matplotlib.lines.Line2D at 0x7f3d25bcf7f0>"
      ]
     },
     "execution_count": 48,
     "metadata": {},
     "output_type": "execute_result"
    },
    {
     "data": {
      "image/png": "[encoded data removed]",
      "text/plain": [
       "<matplotlib.figure.Figure at 0x7f3d2365ff28>"
      ]
     },
     "metadata": {},
     "output_type": "display_data"
    }
   ],
   "source": [
    "plt.spy(adj)"
   ]
  },
  {
   "cell_type": "code",
   "execution_count": 59,
   "metadata": {},
   "outputs": [
    {
     "data": {
      "text/plain": [
       "<matplotlib.lines.Line2D at 0x7f3d2133ad30>"
      ]
     },
     "execution_count": 59,
     "metadata": {},
     "output_type": "execute_result"
    },
    {
     "data": {
      "image/png": "[encoded data removed]",
      "text/plain": [
       "<matplotlib.figure.Figure at 0x7f3d21521550>"
      ]
     },
     "metadata": {},
     "output_type": "display_data"
    }
   ],
   "source": [
    "plt.spy(nx.laplacian_matrix(g), precision=1)"
   ]
  },
  {
   "cell_type": "code",
   "execution_count": null,
   "metadata": {},
   "outputs": [],
   "source": []
  },
  {
   "cell_type": "markdown",
   "metadata": {},
   "source": [
    "Check if it's symmetric :"
   ]
  },
  {
   "cell_type": "code",
   "execution_count": 11,
   "metadata": {
    "scrolled": true
   },
   "outputs": [
    {
     "data": {
      "text/plain": [
       "<8745x8745 sparse matrix of type '<class 'numpy.bool_'>'\n",
       "\twith 0 stored elements in Compressed Sparse Row format>"
      ]
     },
     "execution_count": 11,
     "metadata": {},
     "output_type": "execute_result"
    }
   ],
   "source": [
    "(adj != adj.T)"
   ]
  },
  {
   "cell_type": "code",
   "execution_count": 12,
   "metadata": {},
   "outputs": [],
   "source": [
    "edges = g.edges(nodes[0])\n",
    "edges = list(edges)"
   ]
  },
  {
   "cell_type": "code",
   "execution_count": 13,
   "metadata": {},
   "outputs": [
    {
     "data": {
      "text/plain": [
       "16"
      ]
     },
     "execution_count": 13,
     "metadata": {},
     "output_type": "execute_result"
    }
   ],
   "source": [
    "len(edges)"
   ]
  },
  {
   "cell_type": "code",
   "execution_count": 14,
   "metadata": {},
   "outputs": [
    {
     "data": {
      "text/plain": [
       "['/wiki/Special:SpecialPages',\n",
       " '/wiki/Portal:Contents',\n",
       " '/wiki/Special:Random',\n",
       " '/wiki/Wikipedia:File_Upload_Wizard',\n",
       " '/wiki/Portal:Current_events',\n",
       " '/wiki/File:Cathedral_(Siena)_-_Dome_interior.jpg',\n",
       " '/wiki/Special:MyContributions',\n",
       " '/wiki/Wikipedia:Community_portal',\n",
       " '/wiki/Main_Page',\n",
       " '/wiki/Help:Contents',\n",
       " '/wiki/Wikipedia:Featured_pictures',\n",
       " '/wiki/Special:MyTalk',\n",
       " '/wiki/Special:RecentChanges',\n",
       " '/wiki/Wikipedia:General_disclaimer',\n",
       " '/wiki/Portal:Featured_content',\n",
       " '/wiki/Wikipedia:About']"
      ]
     },
     "execution_count": 14,
     "metadata": {},
     "output_type": "execute_result"
    }
   ],
   "source": [
    "real_edges = neighbors[nodes[0]]\n",
    "real_edges"
   ]
  },
  {
   "cell_type": "code",
   "execution_count": 15,
   "metadata": {},
   "outputs": [
    {
     "data": {
      "text/plain": [
       "16"
      ]
     },
     "execution_count": 15,
     "metadata": {},
     "output_type": "execute_result"
    }
   ],
   "source": [
    "len(real_edges)"
   ]
  },
  {
   "cell_type": "markdown",
   "metadata": {},
   "source": [
    "## Visualization"
   ]
  },
  {
   "cell_type": "code",
   "execution_count": 17,
   "metadata": {},
   "outputs": [],
   "source": [
    "import matplotlib.pyplot as plt\n",
    "import numpy as np"
   ]
  },
  {
   "cell_type": "code",
   "execution_count": 77,
   "metadata": {},
   "outputs": [
    {
     "data": {
      "image/png": "[encoded data removed]",
      "text/plain": [
       "<matplotlib.figure.Figure at 0x20951103b00>"
      ]
     },
     "metadata": {},
     "output_type": "display_data"
    }
   ],
   "source": [
    "nx.draw(g, node_size=5)"
   ]
  },
  {
   "cell_type": "code",
   "execution_count": 18,
   "metadata": {},
   "outputs": [
    {
     "data": {
      "image/png": "[encoded data removed]",
      "text/plain": [
       "<matplotlib.figure.Figure at 0x7f3d2f592b38>"
      ]
     },
     "metadata": {},
     "output_type": "display_data"
    }
   ],
   "source": [
    "degrees = adj.sum(axis=1)\n",
    "\n",
    "plt.hist(degrees, bins=50);"
   ]
  },
  {
   "cell_type": "code",
   "execution_count": 19,
   "metadata": {},
   "outputs": [
    {
     "data": {
      "image/png": "[encoded data removed]",
      "text/plain": [
       "<matplotlib.figure.Figure at 0x7f3d25bae978>"
      ]
     },
     "metadata": {},
     "output_type": "display_data"
    }
   ],
   "source": [
    "degrees_truncated = np.array(degrees)\n",
    "\n",
    "degrees_truncated = degrees_truncated[degrees_truncated < 700]\n",
    "\n",
    "plt.hist(degrees_truncated, bins=20);"
   ]
  },
  {
   "cell_type": "markdown",
   "metadata": {},
   "source": [
    "## Laplacian"
   ]
  },
  {
   "cell_type": "code",
   "execution_count": 20,
   "metadata": {},
   "outputs": [],
   "source": [
    "from scipy import sparse"
   ]
  },
  {
   "cell_type": "code",
   "execution_count": 41,
   "metadata": {},
   "outputs": [],
   "source": [
    "laplacian = nx.laplacian_matrix(g, )\n",
    "laplacian.dtype = float"
   ]
  },
  {
   "cell_type": "code",
   "execution_count": 42,
   "metadata": {},
   "outputs": [
    {
     "name": "stderr",
     "output_type": "stream",
     "text": [
      "/usr/local/lib/python3.5/dist-packages/matplotlib/axes/_axes.py:7321: RuntimeWarning: invalid value encountered in greater\n",
      "  nonzero = np.abs(c.data) > precision\n"
     ]
    },
    {
     "data": {
      "text/plain": [
       "<matplotlib.lines.Line2D at 0x7f3d266ef240>"
      ]
     },
     "execution_count": 42,
     "metadata": {},
     "output_type": "execute_result"
    },
    {
     "data": {
      "image/png": "[encoded data removed]",
      "text/plain": [
       "<matplotlib.figure.Figure at 0x7f3d21e08d68>"
      ]
     },
     "metadata": {},
     "output_type": "display_data"
    }
   ],
   "source": [
    "plt.spy(laplacian)"
   ]
  },
  {
   "cell_type": "code",
   "execution_count": 24,
   "metadata": {},
   "outputs": [],
   "source": [
    "eigenvalues, eigenvectors = sparse.linalg.eigsh(laplacian, k=10, which='SM')"
   ]
  },
  {
   "cell_type": "code",
   "execution_count": 33,
   "metadata": {},
   "outputs": [
    {
     "data": {
      "text/plain": [
       "array([ nan,  nan,  nan,  nan,  nan,  nan,  nan,  nan,  nan,  nan])"
      ]
     },
     "execution_count": 33,
     "metadata": {},
     "output_type": "execute_result"
    }
   ],
   "source": [
    "eigenvalues"
   ]
  },
  {
   "cell_type": "code",
   "execution_count": 32,
   "metadata": {},
   "outputs": [
    {
     "name": "stderr",
     "output_type": "stream",
     "text": [
      "/usr/local/lib/python3.5/dist-packages/scipy/sparse/compressed.py:214: SparseEfficiencyWarning: Comparing a sparse matrix with 0 using == is inefficient, try using != instead.\n",
      "  \", try using != instead.\", SparseEfficiencyWarning)\n"
     ]
    },
    {
     "data": {
      "text/plain": [
       "1"
      ]
     },
     "execution_count": 32,
     "metadata": {},
     "output_type": "execute_result"
    }
   ],
   "source": [
    "np.linalg.matrix_rank(laplacian)"
   ]
  },
  {
   "cell_type": "code",
   "execution_count": 40,
   "metadata": {},
   "outputs": [
    {
     "data": {
      "text/plain": [
       "matrix([[  7.41098469e-323,   0.00000000e+000,   0.00000000e+000, ...,\n",
       "           0.00000000e+000,   0.00000000e+000,   0.00000000e+000],\n",
       "        [  0.00000000e+000,   1.48219694e-322,   0.00000000e+000, ...,\n",
       "           0.00000000e+000,   0.00000000e+000,   0.00000000e+000],\n",
       "        [  0.00000000e+000,   0.00000000e+000,   8.39911598e-323, ...,\n",
       "           0.00000000e+000,   0.00000000e+000,   0.00000000e+000],\n",
       "        ..., \n",
       "        [  0.00000000e+000,   0.00000000e+000,   0.00000000e+000, ...,\n",
       "           8.69555537e-322,   0.00000000e+000,   0.00000000e+000],\n",
       "        [  0.00000000e+000,   0.00000000e+000,   0.00000000e+000, ...,\n",
       "           0.00000000e+000,   1.70946713e-321,               nan],\n",
       "        [  0.00000000e+000,   0.00000000e+000,   0.00000000e+000, ...,\n",
       "           0.00000000e+000,               nan,   1.72922976e-321]])"
      ]
     },
     "execution_count": 40,
     "metadata": {},
     "output_type": "execute_result"
    }
   ],
   "source": [
    "laplacian.todense()"
   ]
  },
  {
   "cell_type": "code",
   "execution_count": null,
   "metadata": {},
   "outputs": [],
   "source": []
  }
 ],
 "metadata": {
  "kernelspec": {
   "display_name": "Python 3",
   "language": "python",
   "name": "python3"
  },
  "language_info": {
   "codemirror_mode": {
    "name": "ipython",
    "version": 3
   },
   "file_extension": ".py",
   "mimetype": "text/x-python",
   "name": "python",
   "nbconvert_exporter": "python",
   "pygments_lexer": "ipython3",
   "version": "3.5.3"
  }
 },
 "nbformat": 4,
 "nbformat_minor": 2
}
