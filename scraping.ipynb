{
 "cells": [
  {
   "cell_type": "code",
   "execution_count": 14,
   "metadata": {},
   "outputs": [],
   "source": [
    "import wikipedia\n",
    "import requests\n",
    "from bs4 import BeautifulSoup\n",
    "\n",
    "warnings.simplefilter(action='ignore', category=UserWarning)"
   ]
  },
  {
   "cell_type": "code",
   "execution_count": 39,
   "metadata": {},
   "outputs": [],
   "source": [
    "origin = '/wiki/Jaguar_(disambiguation)'"
   ]
  },
  {
   "cell_type": "code",
   "execution_count": 50,
   "metadata": {},
   "outputs": [],
   "source": [
    "neighbors = {}"
   ]
  },
  {
   "cell_type": "code",
   "execution_count": 46,
   "metadata": {},
   "outputs": [],
   "source": [
    "def find_inner_links(page_link):\n",
    "    soup = BeautifulSoup(requests.get('https://en.wikipedia.org'+page_link).text)\n",
    "    links = []\n",
    "    l = soup.find_all('li')\n",
    "    for i in l:\n",
    "        tmp = i.find_all('a')\n",
    "        for ii in tmp:\n",
    "            try:\n",
    "                if '/wiki/' == ii['href'][0:6]:\n",
    "                    links.append(ii['href'])\n",
    "            except KeyError:\n",
    "                pass\n",
    "    return links"
   ]
  },
  {
   "cell_type": "code",
   "execution_count": 58,
   "metadata": {},
   "outputs": [],
   "source": [
    "first_nodes = set(find_inner_links(origin))\n",
    "neighbors[origin] = first_nodes"
   ]
  },
  {
   "cell_type": "code",
   "execution_count": 54,
   "metadata": {},
   "outputs": [],
   "source": [
    "second_nodes = set()\n",
    "for link in first_nodes:\n",
    "    tmp = find_inner_links(link)\n",
    "    neighbors[link] = tmp\n",
    "    second_nodes = second_nodes.union(set(tmp))"
   ]
  },
  {
   "cell_type": "code",
   "execution_count": 67,
   "metadata": {},
   "outputs": [],
   "source": [
    "nodes = first_nodes.union(second_nodes)\n",
    "nodes.add(origin)"
   ]
  },
  {
   "cell_type": "code",
   "execution_count": null,
   "metadata": {},
   "outputs": [],
   "source": [
    "for link in second_nodes:\n",
    "    tmp = find_inner_links(link)\n",
    "    neighbors[link] = list(set(tmp).intersection(nodes))"
   ]
  },
  {
   "cell_type": "code",
   "execution_count": null,
   "metadata": {},
   "outputs": [],
   "source": [
    "s = 0\n",
    "for i in neighbors.keys():\n",
    "    s += len(neighbors[i])"
   ]
  },
  {
   "cell_type": "code",
   "execution_count": null,
   "metadata": {},
   "outputs": [],
   "source": [
    "print('Total number of nodes : {}'.format(len(nodes)))\n",
    "print('Number of first nodes : {}'.format(len(first_nodes)))\n",
    "print('Number of second nodes : {}'.format(len(second_nodes)))\n",
    "print('Number of edges : {}').format(s)"
   ]
  }
 ],
 "metadata": {
  "kernelspec": {
   "display_name": "Python 3",
   "language": "python",
   "name": "python3"
  },
  "language_info": {
   "codemirror_mode": {
    "name": "ipython",
    "version": 3
   },
   "file_extension": ".py",
   "mimetype": "text/x-python",
   "name": "python",
   "nbconvert_exporter": "python",
   "pygments_lexer": "ipython3",
   "version": "3.5.3"
  }
 },
 "nbformat": 4,
 "nbformat_minor": 2
}
