{
 "cells": [
  {
   "cell_type": "code",
   "execution_count": 1,
   "metadata": {
    "collapsed": true
   },
   "outputs": [],
   "source": [
    "import wikipedia\n",
    "import requests\n",
    "from bs4 import BeautifulSoup\n",
    "import warnings\n",
    "\n",
    "%matplotlib inline\n",
    "\n",
    "warnings.simplefilter(action='ignore', category=UserWarning)"
   ]
  },
  {
   "cell_type": "markdown",
   "metadata": {},
   "source": [
    "# Scraping"
   ]
  },
  {
   "cell_type": "code",
   "execution_count": 2,
   "metadata": {
    "collapsed": true
   },
   "outputs": [],
   "source": [
    "origin = '/wiki/Jaguar_(disambiguation)'"
   ]
  },
  {
   "cell_type": "code",
   "execution_count": 3,
   "metadata": {
    "collapsed": true
   },
   "outputs": [],
   "source": [
    "neighbors = {}"
   ]
  },
  {
   "cell_type": "code",
   "execution_count": 4,
   "metadata": {
    "collapsed": true
   },
   "outputs": [],
   "source": [
    "def find_inner_links(page_link):\n",
    "    soup = BeautifulSoup(requests.get('https://en.wikipedia.org'+page_link).text)\n",
    "    links = []\n",
    "    l = soup.find_all('li')\n",
    "    for i in l:\n",
    "        tmp = i.find_all('a')\n",
    "        for ii in tmp:\n",
    "            try:\n",
    "                if '/wiki/' == ii['href'][0:6]:\n",
    "                    links.append(ii['href'])\n",
    "            except KeyError:\n",
    "                pass\n",
    "    return links"
   ]
  },
  {
   "cell_type": "code",
   "execution_count": 5,
   "metadata": {
    "collapsed": true
   },
   "outputs": [],
   "source": [
    "first_nodes = set(find_inner_links(origin))\n",
    "neighbors[origin] = first_nodes"
   ]
  },
  {
   "cell_type": "code",
   "execution_count": 6,
   "metadata": {
    "collapsed": true
   },
   "outputs": [],
   "source": [
    "second_nodes = set()\n",
    "for link in first_nodes:\n",
    "    tmp = find_inner_links(link)\n",
    "    neighbors[link] = tmp\n",
    "    second_nodes = second_nodes.union(set(tmp))"
   ]
  },
  {
   "cell_type": "code",
   "execution_count": 7,
   "metadata": {
    "collapsed": true
   },
   "outputs": [],
   "source": [
    "nodes = first_nodes.union(second_nodes)\n",
    "nodes.add(origin)"
   ]
  },
  {
   "cell_type": "code",
   "execution_count": 8,
   "metadata": {},
   "outputs": [
    {
     "name": "stdout",
     "output_type": "stream",
     "text": [
      "100/8745\n",
      "200/8745\n",
      "300/8745\n",
      "400/8745\n",
      "500/8745\n",
      "600/8745\n",
      "700/8745\n",
      "800/8745\n",
      "900/8745\n",
      "1000/8745\n",
      "1100/8745\n",
      "1200/8745\n",
      "1300/8745\n",
      "1400/8745\n",
      "1500/8745\n",
      "1600/8745\n",
      "1700/8745\n",
      "1800/8745\n",
      "1900/8745\n",
      "2000/8745\n",
      "2100/8745\n",
      "2200/8745\n",
      "2300/8745\n",
      "2400/8745\n",
      "2500/8745\n",
      "2600/8745\n",
      "2700/8745\n",
      "2800/8745\n",
      "2900/8745\n",
      "3000/8745\n",
      "3100/8745\n",
      "3200/8745\n",
      "3300/8745\n",
      "3400/8745\n",
      "3500/8745\n",
      "3600/8745\n",
      "3700/8745\n",
      "3800/8745\n",
      "3900/8745\n",
      "4000/8745\n",
      "4100/8745\n",
      "4200/8745\n",
      "4300/8745\n",
      "4400/8745\n",
      "4500/8745\n",
      "4600/8745\n",
      "4700/8745\n",
      "4800/8745\n",
      "4900/8745\n",
      "5000/8745\n",
      "5100/8745\n",
      "5200/8745\n",
      "5300/8745\n",
      "5400/8745\n",
      "5500/8745\n",
      "5600/8745\n",
      "5700/8745\n",
      "5800/8745\n",
      "5900/8745\n",
      "6000/8745\n",
      "6100/8745\n",
      "6200/8745\n",
      "6300/8745\n",
      "6400/8745\n",
      "6500/8745\n",
      "6600/8745\n",
      "6700/8745\n",
      "6800/8745\n",
      "6900/8745\n",
      "7000/8745\n",
      "7100/8745\n",
      "7200/8745\n",
      "7300/8745\n",
      "7400/8745\n",
      "7500/8745\n",
      "7600/8745\n",
      "7700/8745\n",
      "7800/8745\n",
      "7900/8745\n",
      "8000/8745\n",
      "8100/8745\n",
      "8200/8745\n",
      "8300/8745\n",
      "8400/8745\n",
      "8500/8745\n",
      "8600/8745\n",
      "8700/8745\n"
     ]
    }
   ],
   "source": [
    "counter = 0\n",
    "for link in second_nodes:\n",
    "    counter += 1\n",
    "    if counter % 100 == 0:\n",
    "        print('{}/{}'.format(counter, len(second_nodes)))\n",
    "    tmp = find_inner_links(link)\n",
    "    neighbors[link] = list(set(tmp).intersection(nodes))"
   ]
  },
  {
   "cell_type": "code",
   "execution_count": 11,
   "metadata": {
    "collapsed": true
   },
   "outputs": [],
   "source": [
    "s = 0\n",
    "for i in neighbors.keys():\n",
    "    s += len(neighbors[i])"
   ]
  },
  {
   "cell_type": "code",
   "execution_count": 12,
   "metadata": {},
   "outputs": [
    {
     "name": "stdout",
     "output_type": "stream",
     "text": [
      "Total number of nodes : 8745\n",
      "Number of first nodes : 73\n",
      "Number of second nodes : 8745\n",
      "Number of edges : 859184\n"
     ]
    }
   ],
   "source": [
    "print('Total number of nodes : {}'.format(len(nodes)))\n",
    "print('Number of first nodes : {}'.format(len(first_nodes)))\n",
    "print('Number of second nodes : {}'.format(len(second_nodes)))\n",
    "print('Number of edges : {}'.format(s))"
   ]
  },
  {
   "cell_type": "markdown",
   "metadata": {},
   "source": [
    "# Network creation"
   ]
  },
  {
   "cell_type": "code",
   "execution_count": 2,
   "metadata": {
    "collapsed": true
   },
   "outputs": [],
   "source": [
    "import networkx as nx"
   ]
  },
  {
   "cell_type": "markdown",
   "metadata": {},
   "source": [
    "## Saving"
   ]
  },
  {
   "cell_type": "code",
   "execution_count": 3,
   "metadata": {
    "collapsed": true
   },
   "outputs": [],
   "source": [
    "import pickle\n",
    "\n",
    "def save_obj(obj, name ):\n",
    "    with open('obj/'+ name + '.pkl', 'wb') as f:\n",
    "        pickle.dump(obj, f, pickle.HIGHEST_PROTOCOL)\n",
    "\n",
    "def load_obj(name ):\n",
    "    with open('obj/' + name + '.pkl', 'rb') as f:\n",
    "        return pickle.load(f)"
   ]
  },
  {
   "cell_type": "code",
   "execution_count": null,
   "metadata": {},
   "outputs": [],
   "source": [
    "save_obj(nodes, 'nodes')\n",
    "save_obj(first_nodes, 'first_nodes')\n",
    "save_obj(second_nodes, 'second_nodes')\n",
    "save_obj(neighbors, 'neighbors')"
   ]
  },
  {
   "cell_type": "markdown",
   "metadata": {},
   "source": [
    "## Loading"
   ]
  },
  {
   "cell_type": "code",
   "execution_count": 4,
   "metadata": {
    "collapsed": true
   },
   "outputs": [],
   "source": [
    "nodes = load_obj('nodes')\n",
    "first_nodes = load_obj('first_nodes')\n",
    "second_nodes = load_obj('second_nodes')\n",
    "neighbors = load_obj('neighbors')"
   ]
  },
  {
   "cell_type": "code",
   "execution_count": 5,
   "metadata": {},
   "outputs": [
    {
     "data": {
      "text/plain": [
       "'/wiki/Am5x86'"
      ]
     },
     "execution_count": 5,
     "metadata": {},
     "output_type": "execute_result"
    }
   ],
   "source": [
    "nodes = list(nodes)\n",
    "nodes[0]"
   ]
  },
  {
   "cell_type": "code",
   "execution_count": 6,
   "metadata": {
    "collapsed": true
   },
   "outputs": [],
   "source": [
    "#directed :\n",
    "#g = nx.DiGraph(neighbors)\n",
    "\n",
    "#undirected :\n",
    "g = nx.Graph(neighbors)"
   ]
  },
  {
   "cell_type": "code",
   "execution_count": 7,
   "metadata": {},
   "outputs": [
    {
     "data": {
      "text/plain": [
       "<8745x8745 sparse matrix of type '<class 'numpy.int32'>'\n",
       "\twith 1166629 stored elements in Compressed Sparse Row format>"
      ]
     },
     "execution_count": 7,
     "metadata": {},
     "output_type": "execute_result"
    }
   ],
   "source": [
    "adj = nx.adjacency_matrix(g)\n",
    "adj"
   ]
  },
  {
   "cell_type": "markdown",
   "metadata": {},
   "source": [
    "Check if it's symmetric :"
   ]
  },
  {
   "cell_type": "code",
   "execution_count": 8,
   "metadata": {
    "scrolled": true
   },
   "outputs": [
    {
     "data": {
      "text/plain": [
       "<8745x8745 sparse matrix of type '<class 'numpy.bool_'>'\n",
       "\twith 0 stored elements in Compressed Sparse Row format>"
      ]
     },
     "execution_count": 8,
     "metadata": {},
     "output_type": "execute_result"
    }
   ],
   "source": [
    "(adj != adj.T)"
   ]
  },
  {
   "cell_type": "code",
   "execution_count": 9,
   "metadata": {
    "collapsed": true
   },
   "outputs": [],
   "source": [
    "edges = g.edges(nodes[0])\n",
    "edges = list(edges)"
   ]
  },
  {
   "cell_type": "code",
   "execution_count": 10,
   "metadata": {
    "scrolled": false
   },
   "outputs": [
    {
     "name": "stdout",
     "output_type": "stream",
     "text": [
      "[('/wiki/Am5x86', '/wiki/Jaguar_(microarchitecture)'), ('/wiki/Am5x86', '/wiki/List_of_AMD_Athlon_XP_microprocessors'), ('/wiki/Am5x86', '/wiki/Athlon_64_X2'), ('/wiki/Am5x86', '/wiki/AMD_K6-III'), ('/wiki/Am5x86', '/wiki/Template:AMD_processors'), ('/wiki/Am5x86', '/wiki/Athlon_MP'), ('/wiki/Am5x86', '/wiki/Alchemy_(microarchitecture)'), ('/wiki/Am5x86', '/wiki/Steamroller_(microarchitecture)'), ('/wiki/Am5x86', '/wiki/AMD_K12'), ('/wiki/Am5x86', '/wiki/List_of_AMD_Sempron_microprocessors'), ('/wiki/Am5x86', '/wiki/Duron'), ('/wiki/Am5x86', '/wiki/AMD_Accelerated_Processing_Unit'), ('/wiki/Am5x86', '/wiki/List_of_AMD_FX_microprocessors'), ('/wiki/Am5x86', '/wiki/Geode_(processor)'), ('/wiki/Am5x86', '/wiki/List_of_AMD_Turion_microprocessors'), ('/wiki/Am5x86', '/wiki/Bobcat_(microarchitecture)'), ('/wiki/Am5x86', '/wiki/Puma_(microarchitecture)'), ('/wiki/Am5x86', '/wiki/Am486'), ('/wiki/Am5x86', '/wiki/List_of_AMD_Duron_microprocessors'), ('/wiki/Am5x86', '/wiki/Zen_2'), ('/wiki/Am5x86', '/wiki/List_of_AMD_accelerated_processing_unit_microprocessors'), ('/wiki/Am5x86', '/wiki/Athlon_XP'), ('/wiki/Am5x86', '/wiki/Category:Advanced_Micro_Devices_x86_microprocessors'), ('/wiki/Am5x86', '/wiki/Advanced_Micro_Devices'), ('/wiki/Am5x86', '/wiki/Special:WhatLinksHere/Jaguar_(microarchitecture)'), ('/wiki/Am5x86', '/wiki/List_of_AMD_Am2900_and_Am29000_families'), ('/wiki/Am5x86', '/wiki/Epyc'), ('/wiki/Am5x86', '/wiki/Phenom_II'), ('/wiki/Am5x86', '/wiki/Athlon'), ('/wiki/Am5x86', '/wiki/Athlon_64'), ('/wiki/Am5x86', '/wiki/List_of_AMD_Phenom_microprocessors'), ('/wiki/Am5x86', '/wiki/List_of_AMD_Athlon_microprocessors'), ('/wiki/Am5x86', '/wiki/Am386'), ('/wiki/Am5x86', '/wiki/Sempron#FM2/FM2+_Semprons'), ('/wiki/Am5x86', '/wiki/Opteron'), ('/wiki/Am5x86', '/wiki/Opteron#Opteron_A_.2828_nm.29_-_Seattle_ARM_microarchitecture'), ('/wiki/Am5x86', '/wiki/AMD_Am2900'), ('/wiki/Am5x86', '/wiki/AMD_K5'), ('/wiki/Am5x86', '/wiki/Portal:Contents'), ('/wiki/Am5x86', '/wiki/Special:Random'), ('/wiki/Am5x86', '/wiki/Ryzen'), ('/wiki/Am5x86', '/wiki/Excavator_(microarchitecture)'), ('/wiki/Am5x86', '/wiki/AMD_10h'), ('/wiki/Am5x86', '/wiki/Athlon_II'), ('/wiki/Am5x86', '/wiki/Template_talk:AMD_processors'), ('/wiki/Am5x86', '/wiki/AMD_Phenom'), ('/wiki/Am5x86', '/wiki/Special:MyTalk'), ('/wiki/Am5x86', '/wiki/Athlon_X4'), ('/wiki/Am5x86', '/wiki/List_of_AMD_chipsets'), ('/wiki/Am5x86', '/wiki/Category:Advanced_Micro_Devices_sockets'), ('/wiki/Am5x86', '/wiki/Portal:Featured_content'), ('/wiki/Am5x86', '/wiki/List_of_AMD_Opteron_microprocessors'), ('/wiki/Am5x86', '/wiki/AMD_FX'), ('/wiki/Am5x86', '/wiki/AMD_K6-2'), ('/wiki/Am5x86', '/wiki/Am286'), ('/wiki/Am5x86', '/wiki/MIPS_architecture#MIPS32'), ('/wiki/Am5x86', '/wiki/Opteron#Opteron_X_.2828_nm_bulk.29_-_Jaguar_microarchitecture'), ('/wiki/Am5x86', '/wiki/Special:SpecialPages'), ('/wiki/Am5x86', '/wiki/AMD_Am29000'), ('/wiki/Am5x86', '/wiki/Portal:Current_events'), ('/wiki/Am5x86', '/wiki/Am5x86'), ('/wiki/Am5x86', '/wiki/Zen_(microarchitecture)'), ('/wiki/Am5x86', '/wiki/Main_Page'), ('/wiki/Am5x86', '/wiki/Sempron'), ('/wiki/Am5x86', '/wiki/Wikipedia:General_disclaimer'), ('/wiki/Am5x86', '/wiki/List_of_AMD_Athlon_64_microprocessors'), ('/wiki/Am5x86', '/wiki/Special:MyContributions'), ('/wiki/Am5x86', '/wiki/Help:Contents'), ('/wiki/Am5x86', '/wiki/Piledriver_(microarchitecture)'), ('/wiki/Am5x86', '/wiki/AMD_Am9080'), ('/wiki/Am5x86', '/wiki/Wikipedia:About'), ('/wiki/Am5x86', '/wiki/List_of_AMD_Athlon_X2_microprocessors'), ('/wiki/Am5x86', '/wiki/AMD_K9'), ('/wiki/Am5x86', '/wiki/Wikipedia:File_Upload_Wizard'), ('/wiki/Am5x86', '/wiki/Wikipedia:Community_portal'), ('/wiki/Am5x86', '/wiki/Bulldozer_(microarchitecture)'), ('/wiki/Am5x86', '/wiki/AMD_K6'), ('/wiki/Am5x86', '/wiki/AMD_Turion'), ('/wiki/Am5x86', '/wiki/AMD_K8'), ('/wiki/Am5x86', '/wiki/Special:RecentChanges'), ('/wiki/Am5x86', '/wiki/Clustered_multi-thread'), ('/wiki/Am5x86', '/wiki/Fusion_controller_hub')]\n"
     ]
    }
   ],
   "source": [
    "print(edges)"
   ]
  },
  {
   "cell_type": "code",
   "execution_count": 11,
   "metadata": {},
   "outputs": [
    {
     "data": {
      "text/plain": [
       "82"
      ]
     },
     "execution_count": 11,
     "metadata": {},
     "output_type": "execute_result"
    }
   ],
   "source": [
    "len(edges)"
   ]
  },
  {
   "cell_type": "code",
   "execution_count": 12,
   "metadata": {},
   "outputs": [
    {
     "data": {
      "text/plain": [
       "['/wiki/AMD_K5',\n",
       " '/wiki/Athlon_64',\n",
       " '/wiki/Steamroller_(microarchitecture)',\n",
       " '/wiki/Portal:Contents',\n",
       " '/wiki/List_of_AMD_Sempron_microprocessors',\n",
       " '/wiki/Special:Random',\n",
       " '/wiki/List_of_AMD_Athlon_XP_microprocessors',\n",
       " '/wiki/Ryzen',\n",
       " '/wiki/Excavator_(microarchitecture)',\n",
       " '/wiki/AMD_10h',\n",
       " '/wiki/Athlon_II',\n",
       " '/wiki/AMD_K12',\n",
       " '/wiki/Geode_(processor)',\n",
       " '/wiki/Zen_2',\n",
       " '/wiki/Template_talk:AMD_processors',\n",
       " '/wiki/AMD_Phenom',\n",
       " '/wiki/List_of_AMD_Phenom_microprocessors',\n",
       " '/wiki/Phenom_II',\n",
       " '/wiki/Special:MyTalk',\n",
       " '/wiki/Athlon_X4',\n",
       " '/wiki/List_of_AMD_chipsets',\n",
       " '/wiki/Category:Advanced_Micro_Devices_sockets',\n",
       " '/wiki/Portal:Featured_content',\n",
       " '/wiki/List_of_AMD_Opteron_microprocessors',\n",
       " '/wiki/AMD_FX',\n",
       " '/wiki/AMD_K6-2',\n",
       " '/wiki/Am286',\n",
       " '/wiki/Puma_(microarchitecture)',\n",
       " '/wiki/MIPS_architecture#MIPS32',\n",
       " '/wiki/Opteron#Opteron_X_.2828_nm_bulk.29_-_Jaguar_microarchitecture',\n",
       " '/wiki/Athlon',\n",
       " '/wiki/Special:SpecialPages',\n",
       " '/wiki/AMD_Am29000',\n",
       " '/wiki/Portal:Current_events',\n",
       " '/wiki/Athlon_MP',\n",
       " '/wiki/Opteron',\n",
       " '/wiki/List_of_AMD_Duron_microprocessors',\n",
       " '/wiki/Am5x86',\n",
       " '/wiki/AMD_K6-III',\n",
       " '/wiki/Zen_(microarchitecture)',\n",
       " '/wiki/Opteron#Opteron_A_.2828_nm.29_-_Seattle_ARM_microarchitecture',\n",
       " '/wiki/Main_Page',\n",
       " '/wiki/Sempron',\n",
       " '/wiki/Wikipedia:General_disclaimer',\n",
       " '/wiki/List_of_AMD_Athlon_64_microprocessors',\n",
       " '/wiki/List_of_AMD_FX_microprocessors',\n",
       " '/wiki/Duron',\n",
       " '/wiki/Special:MyContributions',\n",
       " '/wiki/List_of_AMD_Am2900_and_Am29000_families',\n",
       " '/wiki/List_of_AMD_Athlon_microprocessors',\n",
       " '/wiki/Help:Contents',\n",
       " '/wiki/Piledriver_(microarchitecture)',\n",
       " '/wiki/Am486',\n",
       " '/wiki/AMD_Accelerated_Processing_Unit',\n",
       " '/wiki/Am386',\n",
       " '/wiki/AMD_Am9080',\n",
       " '/wiki/Wikipedia:About',\n",
       " '/wiki/Epyc',\n",
       " '/wiki/AMD_Am2900',\n",
       " '/wiki/List_of_AMD_accelerated_processing_unit_microprocessors',\n",
       " '/wiki/List_of_AMD_Turion_microprocessors',\n",
       " '/wiki/List_of_AMD_Athlon_X2_microprocessors',\n",
       " '/wiki/Sempron#FM2/FM2+_Semprons',\n",
       " '/wiki/AMD_K9',\n",
       " '/wiki/Wikipedia:File_Upload_Wizard',\n",
       " '/wiki/Wikipedia:Community_portal',\n",
       " '/wiki/Athlon_XP',\n",
       " '/wiki/Bulldozer_(microarchitecture)',\n",
       " '/wiki/Athlon_64_X2',\n",
       " '/wiki/AMD_K6',\n",
       " '/wiki/Jaguar_(microarchitecture)',\n",
       " '/wiki/Template:AMD_processors',\n",
       " '/wiki/AMD_Turion',\n",
       " '/wiki/Alchemy_(microarchitecture)',\n",
       " '/wiki/AMD_K8',\n",
       " '/wiki/Special:RecentChanges',\n",
       " '/wiki/Category:Advanced_Micro_Devices_x86_microprocessors',\n",
       " '/wiki/Bobcat_(microarchitecture)']"
      ]
     },
     "execution_count": 12,
     "metadata": {},
     "output_type": "execute_result"
    }
   ],
   "source": [
    "real_edges = neighbors[nodes[0]]\n",
    "real_edges"
   ]
  },
  {
   "cell_type": "code",
   "execution_count": 13,
   "metadata": {},
   "outputs": [
    {
     "data": {
      "text/plain": [
       "78"
      ]
     },
     "execution_count": 13,
     "metadata": {},
     "output_type": "execute_result"
    }
   ],
   "source": [
    "len(real_edges)"
   ]
  },
  {
   "cell_type": "markdown",
   "metadata": {},
   "source": [
    "## Visualization"
   ]
  },
  {
   "cell_type": "code",
   "execution_count": 42,
   "metadata": {},
   "outputs": [],
   "source": [
    "import matplotlib.pyplot as plt\n",
    "import numpy as np"
   ]
  },
  {
   "cell_type": "code",
   "execution_count": 77,
   "metadata": {},
   "outputs": [
    {
     "data": {
      "image/png": "[encoded data removed]",
      "text/plain": [
       "<matplotlib.figure.Figure at 0x20951103b00>"
      ]
     },
     "metadata": {},
     "output_type": "display_data"
    }
   ],
   "source": [
    "nx.draw(g, node_size=5)"
   ]
  },
  {
   "cell_type": "code",
   "execution_count": 34,
   "metadata": {},
   "outputs": [
    {
     "data": {
      "image/png": "[encoded data removed]",
      "text/plain": [
       "<matplotlib.figure.Figure at 0x2500d0f17f0>"
      ]
     },
     "metadata": {},
     "output_type": "display_data"
    }
   ],
   "source": [
    "degrees = adj.sum(axis=1)\n",
    "\n",
    "plt.hist(degrees, bins=50);"
   ]
  },
  {
   "cell_type": "code",
   "execution_count": 54,
   "metadata": {},
   "outputs": [
    {
     "data": {
      "image/png": "[encoded data removed]",
      "text/plain": [
       "<matplotlib.figure.Figure at 0x25022796438>"
      ]
     },
     "metadata": {},
     "output_type": "display_data"
    }
   ],
   "source": [
    "degrees_truncated = np.array(degrees)\n",
    "\n",
    "degrees_truncated = degrees_truncated[degrees_truncated < 700]\n",
    "\n",
    "plt.hist(degrees_truncated, bins=20);"
   ]
  },
  {
   "cell_type": "markdown",
   "metadata": {},
   "source": [
    "## Laplacian"
   ]
  },
  {
   "cell_type": "code",
   "execution_count": 61,
   "metadata": {
    "collapsed": true
   },
   "outputs": [],
   "source": [
    "from scipy import sparse"
   ]
  },
  {
   "cell_type": "code",
   "execution_count": 55,
   "metadata": {
    "collapsed": true
   },
   "outputs": [],
   "source": [
    "laplacian = nx.laplacian_matrix(g, )"
   ]
  },
  {
   "cell_type": "code",
   "execution_count": 62,
   "metadata": {},
   "outputs": [
    {
     "ename": "ValueError",
     "evalue": "matrix type must be 'f', 'd', 'F', or 'D'",
     "output_type": "error",
     "traceback": [
      "\u001b[1;31m---------------------------------------------------------------------------\u001b[0m",
      "\u001b[1;31mValueError\u001b[0m                                Traceback (most recent call last)",
      "\u001b[1;32m<ipython-input-62-c65afd849f91>\u001b[0m in \u001b[0;36m<module>\u001b[1;34m()\u001b[0m\n\u001b[1;32m----> 1\u001b[1;33m \u001b[0meigenvalues\u001b[0m\u001b[1;33m,\u001b[0m \u001b[0meigenvectors\u001b[0m \u001b[1;33m=\u001b[0m \u001b[0msparse\u001b[0m\u001b[1;33m.\u001b[0m\u001b[0mlinalg\u001b[0m\u001b[1;33m.\u001b[0m\u001b[0meigsh\u001b[0m\u001b[1;33m(\u001b[0m\u001b[0mlaplacian\u001b[0m\u001b[1;33m,\u001b[0m \u001b[0mk\u001b[0m\u001b[1;33m=\u001b[0m\u001b[1;36m10\u001b[0m\u001b[1;33m,\u001b[0m \u001b[0mwhich\u001b[0m\u001b[1;33m=\u001b[0m\u001b[1;34m'SM'\u001b[0m\u001b[1;33m)\u001b[0m\u001b[1;33m\u001b[0m\u001b[0m\n\u001b[0m",
      "\u001b[1;32m~\\Anaconda3\\lib\\site-packages\\scipy\\sparse\\linalg\\eigen\\arpack\\arpack.py\u001b[0m in \u001b[0;36meigsh\u001b[1;34m(A, k, M, sigma, which, v0, ncv, maxiter, tol, return_eigenvectors, Minv, OPinv, mode)\u001b[0m\n\u001b[0;32m   1599\u001b[0m     params = _SymmetricArpackParams(n, k, A.dtype.char, matvec, mode,\n\u001b[0;32m   1600\u001b[0m                                     \u001b[0mM_matvec\u001b[0m\u001b[1;33m,\u001b[0m \u001b[0mMinv_matvec\u001b[0m\u001b[1;33m,\u001b[0m \u001b[0msigma\u001b[0m\u001b[1;33m,\u001b[0m\u001b[1;33m\u001b[0m\u001b[0m\n\u001b[1;32m-> 1601\u001b[1;33m                                     ncv, v0, maxiter, which, tol)\n\u001b[0m\u001b[0;32m   1602\u001b[0m \u001b[1;33m\u001b[0m\u001b[0m\n\u001b[0;32m   1603\u001b[0m     \u001b[1;32mwith\u001b[0m \u001b[0m_ARPACK_LOCK\u001b[0m\u001b[1;33m:\u001b[0m\u001b[1;33m\u001b[0m\u001b[0m\n",
      "\u001b[1;32m~\\Anaconda3\\lib\\site-packages\\scipy\\sparse\\linalg\\eigen\\arpack\\arpack.py\u001b[0m in \u001b[0;36m__init__\u001b[1;34m(self, n, k, tp, matvec, mode, M_matvec, Minv_matvec, sigma, ncv, v0, maxiter, which, tol)\u001b[0m\n\u001b[0;32m    510\u001b[0m \u001b[1;33m\u001b[0m\u001b[0m\n\u001b[0;32m    511\u001b[0m         _ArpackParams.__init__(self, n, k, tp, mode, sigma,\n\u001b[1;32m--> 512\u001b[1;33m                                ncv, v0, maxiter, which, tol)\n\u001b[0m\u001b[0;32m    513\u001b[0m \u001b[1;33m\u001b[0m\u001b[0m\n\u001b[0;32m    514\u001b[0m         \u001b[1;32mif\u001b[0m \u001b[0mself\u001b[0m\u001b[1;33m.\u001b[0m\u001b[0mncv\u001b[0m \u001b[1;33m>\u001b[0m \u001b[0mn\u001b[0m \u001b[1;32mor\u001b[0m \u001b[0mself\u001b[0m\u001b[1;33m.\u001b[0m\u001b[0mncv\u001b[0m \u001b[1;33m<=\u001b[0m \u001b[0mk\u001b[0m\u001b[1;33m:\u001b[0m\u001b[1;33m\u001b[0m\u001b[0m\n",
      "\u001b[1;32m~\\Anaconda3\\lib\\site-packages\\scipy\\sparse\\linalg\\eigen\\arpack\\arpack.py\u001b[0m in \u001b[0;36m__init__\u001b[1;34m(self, n, k, tp, mode, sigma, ncv, v0, maxiter, which, tol)\u001b[0m\n\u001b[0;32m    318\u001b[0m \u001b[1;33m\u001b[0m\u001b[0m\n\u001b[0;32m    319\u001b[0m         \u001b[1;32mif\u001b[0m \u001b[0mtp\u001b[0m \u001b[1;32mnot\u001b[0m \u001b[1;32min\u001b[0m \u001b[1;34m'fdFD'\u001b[0m\u001b[1;33m:\u001b[0m\u001b[1;33m\u001b[0m\u001b[0m\n\u001b[1;32m--> 320\u001b[1;33m             \u001b[1;32mraise\u001b[0m \u001b[0mValueError\u001b[0m\u001b[1;33m(\u001b[0m\u001b[1;34m\"matrix type must be 'f', 'd', 'F', or 'D'\"\u001b[0m\u001b[1;33m)\u001b[0m\u001b[1;33m\u001b[0m\u001b[0m\n\u001b[0m\u001b[0;32m    321\u001b[0m \u001b[1;33m\u001b[0m\u001b[0m\n\u001b[0;32m    322\u001b[0m         \u001b[1;32mif\u001b[0m \u001b[0mv0\u001b[0m \u001b[1;32mis\u001b[0m \u001b[1;32mnot\u001b[0m \u001b[1;32mNone\u001b[0m\u001b[1;33m:\u001b[0m\u001b[1;33m\u001b[0m\u001b[0m\n",
      "\u001b[1;31mValueError\u001b[0m: matrix type must be 'f', 'd', 'F', or 'D'"
     ]
    }
   ],
   "source": [
    "eigenvalues, eigenvectors = sparse.linalg.eigsh(laplacian, k=10, which='SM')"
   ]
  },
  {
   "cell_type": "code",
   "execution_count": 68,
   "metadata": {},
   "outputs": [
    {
     "data": {
      "text/plain": [
       "-1"
      ]
     },
     "execution_count": 68,
     "metadata": {},
     "output_type": "execute_result"
    }
   ],
   "source": [
    "laplacian[0, 3]"
   ]
  },
  {
   "cell_type": "code",
   "execution_count": null,
   "metadata": {
    "collapsed": true
   },
   "outputs": [],
   "source": []
  }
 ],
 "metadata": {
  "kernelspec": {
   "display_name": "Python 3",
   "language": "python",
   "name": "python3"
  },
  "language_info": {
   "codemirror_mode": {
    "name": "ipython",
    "version": 3
   },
   "file_extension": ".py",
   "mimetype": "text/x-python",
   "name": "python",
   "nbconvert_exporter": "python",
   "pygments_lexer": "ipython3",
   "version": "3.6.3"
  }
 },
 "nbformat": 4,
 "nbformat_minor": 2
}
