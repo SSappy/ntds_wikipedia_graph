{
 "cells": [
  {
   "cell_type": "code",
   "execution_count": 1,
   "metadata": {
    "collapsed": true
   },
   "outputs": [],
   "source": [
    "import wikipedia\n",
    "import requests\n",
    "from bs4 import BeautifulSoup\n",
    "import warnings\n",
    "\n",
    "%matplotlib inline\n",
    "\n",
    "warnings.simplefilter(action='ignore', category=UserWarning)"
   ]
  },
  {
   "cell_type": "markdown",
   "metadata": {},
   "source": [
    "# Scraping"
   ]
  },
  {
   "cell_type": "code",
   "execution_count": 2,
   "metadata": {
    "collapsed": true
   },
   "outputs": [],
   "source": [
    "origin = '/wiki/Jaguar_(disambiguation)'"
   ]
  },
  {
   "cell_type": "code",
   "execution_count": 3,
   "metadata": {
    "collapsed": true
   },
   "outputs": [],
   "source": [
    "neighbors = {}"
   ]
  },
  {
   "cell_type": "code",
   "execution_count": 4,
   "metadata": {
    "collapsed": true
   },
   "outputs": [],
   "source": [
    "def find_inner_links(page_link):\n",
    "    soup = BeautifulSoup(requests.get('https://en.wikipedia.org'+page_link).text)\n",
    "    links = []\n",
    "    l = soup.find_all('li')\n",
    "    for i in l:\n",
    "        tmp = i.find_all('a')\n",
    "        for ii in tmp:\n",
    "            try:\n",
    "                if '/wiki/' == ii['href'][0:6]:\n",
    "                    links.append(ii['href'])\n",
    "            except KeyError:\n",
    "                pass\n",
    "    return links"
   ]
  },
  {
   "cell_type": "code",
   "execution_count": 5,
   "metadata": {
    "collapsed": true
   },
   "outputs": [],
   "source": [
    "first_nodes = set(find_inner_links(origin))\n",
    "neighbors[origin] = first_nodes"
   ]
  },
  {
   "cell_type": "code",
   "execution_count": 6,
   "metadata": {
    "collapsed": true
   },
   "outputs": [],
   "source": [
    "second_nodes = set()\n",
    "for link in first_nodes:\n",
    "    tmp = find_inner_links(link)\n",
    "    neighbors[link] = tmp\n",
    "    second_nodes = second_nodes.union(set(tmp))"
   ]
  },
  {
   "cell_type": "code",
   "execution_count": 7,
   "metadata": {
    "collapsed": true
   },
   "outputs": [],
   "source": [
    "nodes = first_nodes.union(second_nodes)\n",
    "nodes.add(origin)"
   ]
  },
  {
   "cell_type": "code",
   "execution_count": 8,
   "metadata": {},
   "outputs": [
    {
     "name": "stdout",
     "output_type": "stream",
     "text": [
      "100/8745\n",
      "200/8745\n",
      "300/8745\n",
      "400/8745\n",
      "500/8745\n",
      "600/8745\n",
      "700/8745\n",
      "800/8745\n",
      "900/8745\n",
      "1000/8745\n",
      "1100/8745\n",
      "1200/8745\n",
      "1300/8745\n",
      "1400/8745\n",
      "1500/8745\n",
      "1600/8745\n",
      "1700/8745\n",
      "1800/8745\n",
      "1900/8745\n",
      "2000/8745\n",
      "2100/8745\n",
      "2200/8745\n",
      "2300/8745\n",
      "2400/8745\n",
      "2500/8745\n",
      "2600/8745\n",
      "2700/8745\n",
      "2800/8745\n",
      "2900/8745\n",
      "3000/8745\n",
      "3100/8745\n",
      "3200/8745\n",
      "3300/8745\n",
      "3400/8745\n",
      "3500/8745\n",
      "3600/8745\n",
      "3700/8745\n",
      "3800/8745\n",
      "3900/8745\n",
      "4000/8745\n",
      "4100/8745\n",
      "4200/8745\n",
      "4300/8745\n",
      "4400/8745\n",
      "4500/8745\n",
      "4600/8745\n",
      "4700/8745\n",
      "4800/8745\n",
      "4900/8745\n",
      "5000/8745\n",
      "5100/8745\n",
      "5200/8745\n",
      "5300/8745\n",
      "5400/8745\n",
      "5500/8745\n",
      "5600/8745\n",
      "5700/8745\n",
      "5800/8745\n",
      "5900/8745\n",
      "6000/8745\n",
      "6100/8745\n",
      "6200/8745\n",
      "6300/8745\n",
      "6400/8745\n",
      "6500/8745\n",
      "6600/8745\n",
      "6700/8745\n",
      "6800/8745\n",
      "6900/8745\n",
      "7000/8745\n",
      "7100/8745\n",
      "7200/8745\n",
      "7300/8745\n",
      "7400/8745\n",
      "7500/8745\n",
      "7600/8745\n",
      "7700/8745\n",
      "7800/8745\n",
      "7900/8745\n",
      "8000/8745\n",
      "8100/8745\n",
      "8200/8745\n",
      "8300/8745\n",
      "8400/8745\n",
      "8500/8745\n",
      "8600/8745\n",
      "8700/8745\n"
     ]
    }
   ],
   "source": [
    "counter = 0\n",
    "for link in second_nodes:\n",
    "    counter += 1\n",
    "    if counter % 100 == 0:\n",
    "        print('{}/{}'.format(counter, len(second_nodes)))\n",
    "    tmp = find_inner_links(link)\n",
    "    neighbors[link] = list(set(tmp).intersection(nodes))"
   ]
  },
  {
   "cell_type": "code",
   "execution_count": 11,
   "metadata": {
    "collapsed": true
   },
   "outputs": [],
   "source": [
    "s = 0\n",
    "for i in neighbors.keys():\n",
    "    s += len(neighbors[i])"
   ]
  },
  {
   "cell_type": "code",
   "execution_count": 12,
   "metadata": {},
   "outputs": [
    {
     "name": "stdout",
     "output_type": "stream",
     "text": [
      "Total number of nodes : 8745\n",
      "Number of first nodes : 73\n",
      "Number of second nodes : 8745\n",
      "Number of edges : 859184\n"
     ]
    }
   ],
   "source": [
    "print('Total number of nodes : {}'.format(len(nodes)))\n",
    "print('Number of first nodes : {}'.format(len(first_nodes)))\n",
    "print('Number of second nodes : {}'.format(len(second_nodes)))\n",
    "print('Number of edges : {}'.format(s))"
   ]
  },
  {
   "cell_type": "markdown",
   "metadata": {},
   "source": [
    "# Network creation"
   ]
  },
  {
   "cell_type": "code",
   "execution_count": 2,
   "metadata": {
    "collapsed": true
   },
   "outputs": [],
   "source": [
    "import networkx as nx\n",
    "import matplotlib.pyplot as plt"
   ]
  },
  {
   "cell_type": "markdown",
   "metadata": {},
   "source": [
    "## Saving"
   ]
  },
  {
   "cell_type": "code",
   "execution_count": 3,
   "metadata": {
    "collapsed": true
   },
   "outputs": [],
   "source": [
    "import pickle\n",
    "\n",
    "def save_obj(obj, name ):\n",
    "    with open('data/'+ name + '.pkl', 'wb') as f:\n",
    "        pickle.dump(obj, f, pickle.HIGHEST_PROTOCOL)\n",
    "\n",
    "def load_obj(name ):\n",
    "    with open('data/' + name + '.pkl', 'rb') as f:\n",
    "        return pickle.load(f)"
   ]
  },
  {
   "cell_type": "code",
   "execution_count": null,
   "metadata": {
    "collapsed": true
   },
   "outputs": [],
   "source": [
    "save_obj(nodes, 'nodes')\n",
    "save_obj(first_nodes, 'first_nodes')\n",
    "save_obj(second_nodes, 'second_nodes')\n",
    "save_obj(neighbors, 'neighbors')"
   ]
  },
  {
   "cell_type": "markdown",
   "metadata": {},
   "source": [
    "## Loading"
   ]
  },
  {
   "cell_type": "code",
   "execution_count": 4,
   "metadata": {
    "collapsed": true
   },
   "outputs": [],
   "source": [
    "nodes = load_obj('nodes')\n",
    "first_nodes = load_obj('first_nodes')\n",
    "second_nodes = load_obj('second_nodes')\n",
    "neighbors = load_obj('neighbors')"
   ]
  },
  {
   "cell_type": "code",
   "execution_count": 5,
   "metadata": {},
   "outputs": [
    {
     "data": {
      "text/plain": [
       "'/wiki/African_civet'"
      ]
     },
     "execution_count": 5,
     "metadata": {},
     "output_type": "execute_result"
    }
   ],
   "source": [
    "nodes = list(nodes)\n",
    "nodes[0]"
   ]
  },
  {
   "cell_type": "code",
   "execution_count": 6,
   "metadata": {
    "collapsed": true
   },
   "outputs": [],
   "source": [
    "#directed :\n",
    "#g = nx.DiGraph(neighbors)\n",
    "\n",
    "#undirected :\n",
    "g = nx.Graph(neighbors)"
   ]
  },
  {
   "cell_type": "code",
   "execution_count": 7,
   "metadata": {},
   "outputs": [
    {
     "data": {
      "text/plain": [
       "<8745x8745 sparse matrix of type '<class 'numpy.int32'>'\n",
       "\twith 1166629 stored elements in Compressed Sparse Row format>"
      ]
     },
     "execution_count": 7,
     "metadata": {},
     "output_type": "execute_result"
    }
   ],
   "source": [
    "adj = nx.adjacency_matrix(g)\n",
    "adj"
   ]
  },
  {
   "cell_type": "code",
   "execution_count": 10,
   "metadata": {},
   "outputs": [
    {
     "data": {
      "text/plain": [
       "<matplotlib.lines.Line2D at 0x21dfd8232e8>"
      ]
     },
     "execution_count": 10,
     "metadata": {},
     "output_type": "execute_result"
    },
    {
     "data": {
      "image/png": "[encoded data removed]",
      "text/plain": [
       "<matplotlib.figure.Figure at 0x21de9f5f518>"
      ]
     },
     "metadata": {},
     "output_type": "display_data"
    }
   ],
   "source": [
    "plt.spy(adj)"
   ]
  },
  {
   "cell_type": "code",
   "execution_count": 11,
   "metadata": {},
   "outputs": [
    {
     "data": {
      "text/plain": [
       "<matplotlib.lines.Line2D at 0x21d8b34f3c8>"
      ]
     },
     "execution_count": 11,
     "metadata": {},
     "output_type": "execute_result"
    },
    {
     "data": {
      "image/png": "[encoded data removed]",
      "text/plain": [
       "<matplotlib.figure.Figure at 0x21de551bb38>"
      ]
     },
     "metadata": {},
     "output_type": "display_data"
    }
   ],
   "source": [
    "plt.spy(nx.laplacian_matrix(g), precision=1)"
   ]
  },
  {
   "cell_type": "markdown",
   "metadata": {},
   "source": [
    "Check if it's symmetric :"
   ]
  },
  {
   "cell_type": "code",
   "execution_count": 12,
   "metadata": {
    "scrolled": true
   },
   "outputs": [
    {
     "data": {
      "text/plain": [
       "<8745x8745 sparse matrix of type '<class 'numpy.bool_'>'\n",
       "\twith 0 stored elements in Compressed Sparse Row format>"
      ]
     },
     "execution_count": 12,
     "metadata": {},
     "output_type": "execute_result"
    }
   ],
   "source": [
    "(adj != adj.T)"
   ]
  },
  {
   "cell_type": "code",
   "execution_count": 13,
   "metadata": {
    "collapsed": true
   },
   "outputs": [],
   "source": [
    "edges = g.edges(nodes[0])\n",
    "edges = list(edges)"
   ]
  },
  {
   "cell_type": "code",
   "execution_count": 14,
   "metadata": {},
   "outputs": [
    {
     "data": {
      "text/plain": [
       "84"
      ]
     },
     "execution_count": 14,
     "metadata": {},
     "output_type": "execute_result"
    }
   ],
   "source": [
    "len(edges)"
   ]
  },
  {
   "cell_type": "code",
   "execution_count": 15,
   "metadata": {},
   "outputs": [
    {
     "data": {
      "text/plain": [
       "['/wiki/Category:All_articles_needing_additional_references',\n",
       " '/wiki/AMD_K5',\n",
       " '/wiki/Athlon_64',\n",
       " '/wiki/Steamroller_(microarchitecture)',\n",
       " '/wiki/Portal:Contents',\n",
       " '/wiki/List_of_AMD_Sempron_microprocessors',\n",
       " '/wiki/Special:Random',\n",
       " '/wiki/List_of_AMD_Athlon_XP_microprocessors',\n",
       " '/wiki/Ryzen',\n",
       " '/wiki/Excavator_(microarchitecture)',\n",
       " '/wiki/AMD_10h',\n",
       " '/wiki/Athlon_II',\n",
       " '/wiki/AMD_K12',\n",
       " '/wiki/Geode_(processor)',\n",
       " '/wiki/Zen_2',\n",
       " '/wiki/Template_talk:AMD_processors',\n",
       " '/wiki/AMD_Phenom',\n",
       " '/wiki/List_of_AMD_Phenom_microprocessors',\n",
       " '/wiki/Phenom_II',\n",
       " '/wiki/Special:MyTalk',\n",
       " '/wiki/Athlon_X4',\n",
       " '/wiki/List_of_AMD_chipsets',\n",
       " '/wiki/Category:Advanced_Micro_Devices_sockets',\n",
       " '/wiki/Portal:Featured_content',\n",
       " '/wiki/List_of_AMD_Opteron_microprocessors',\n",
       " '/wiki/AMD_FX',\n",
       " '/wiki/AMD_K6-2',\n",
       " '/wiki/Am286',\n",
       " '/wiki/Puma_(microarchitecture)',\n",
       " '/wiki/MIPS_architecture#MIPS32',\n",
       " '/wiki/Opteron#Opteron_X_.2828_nm_bulk.29_-_Jaguar_microarchitecture',\n",
       " '/wiki/Athlon',\n",
       " '/wiki/Special:SpecialPages',\n",
       " '/wiki/AMD_Am29000',\n",
       " '/wiki/Portal:Current_events',\n",
       " '/wiki/Athlon_MP',\n",
       " '/wiki/Opteron',\n",
       " '/wiki/List_of_AMD_Duron_microprocessors',\n",
       " '/wiki/Am5x86',\n",
       " '/wiki/AMD_K6-III',\n",
       " '/wiki/Zen_(microarchitecture)',\n",
       " '/wiki/Opteron#Opteron_A_.2828_nm.29_-_Seattle_ARM_microarchitecture',\n",
       " '/wiki/Main_Page',\n",
       " '/wiki/Sempron',\n",
       " '/wiki/Wikipedia:General_disclaimer',\n",
       " '/wiki/List_of_AMD_Athlon_64_microprocessors',\n",
       " '/wiki/List_of_AMD_FX_microprocessors',\n",
       " '/wiki/Duron',\n",
       " '/wiki/Advanced_Micro_Devices',\n",
       " '/wiki/Special:MyContributions',\n",
       " '/wiki/List_of_AMD_Am2900_and_Am29000_families',\n",
       " '/wiki/List_of_AMD_Athlon_microprocessors',\n",
       " '/wiki/Help:Contents',\n",
       " '/wiki/Piledriver_(microarchitecture)',\n",
       " '/wiki/Am486',\n",
       " '/wiki/AMD_Accelerated_Processing_Unit',\n",
       " '/wiki/Am386',\n",
       " '/wiki/AMD_Am9080',\n",
       " '/wiki/Wikipedia:About',\n",
       " '/wiki/Epyc',\n",
       " '/wiki/AMD_Am2900',\n",
       " '/wiki/List_of_AMD_accelerated_processing_unit_microprocessors',\n",
       " '/wiki/Category:All_articles_lacking_in-text_citations',\n",
       " '/wiki/List_of_AMD_Turion_microprocessors',\n",
       " '/wiki/List_of_AMD_Athlon_X2_microprocessors',\n",
       " '/wiki/Sempron#FM2/FM2+_Semprons',\n",
       " '/wiki/AMD_K9',\n",
       " '/wiki/Wikipedia:File_Upload_Wizard',\n",
       " '/wiki/Wikipedia:Community_portal',\n",
       " '/wiki/Athlon_XP',\n",
       " '/wiki/Bulldozer_(microarchitecture)',\n",
       " '/wiki/Athlon_64_X2',\n",
       " '/wiki/AMD_K6',\n",
       " '/wiki/Jaguar_(microarchitecture)',\n",
       " '/wiki/Template:AMD_processors',\n",
       " '/wiki/AMD_Turion',\n",
       " '/wiki/Alchemy_(microarchitecture)',\n",
       " '/wiki/AMD_K8',\n",
       " '/wiki/Special:RecentChanges',\n",
       " '/wiki/Category:Advanced_Micro_Devices_x86_microprocessors',\n",
       " '/wiki/Bobcat_(microarchitecture)']"
      ]
     },
     "execution_count": 15,
     "metadata": {},
     "output_type": "execute_result"
    }
   ],
   "source": [
    "real_edges = neighbors[nodes[0]]\n",
    "real_edges"
   ]
  },
  {
   "cell_type": "code",
   "execution_count": 16,
   "metadata": {},
   "outputs": [
    {
     "data": {
      "text/plain": [
       "81"
      ]
     },
     "execution_count": 16,
     "metadata": {},
     "output_type": "execute_result"
    }
   ],
   "source": [
    "len(real_edges)"
   ]
  },
  {
   "cell_type": "markdown",
   "metadata": {},
   "source": [
    "## Visualization"
   ]
  },
  {
   "cell_type": "code",
   "execution_count": 8,
   "metadata": {
    "collapsed": true
   },
   "outputs": [],
   "source": [
    "import numpy as np"
   ]
  },
  {
   "cell_type": "code",
   "execution_count": 18,
   "metadata": {},
   "outputs": [
    {
     "data": {
      "image/png": "[encoded data removed]",
      "text/plain": [
       "<matplotlib.figure.Figure at 0x21d8b324a20>"
      ]
     },
     "metadata": {},
     "output_type": "display_data"
    }
   ],
   "source": [
    "nx.draw(g, node_size=5)"
   ]
  },
  {
   "cell_type": "code",
   "execution_count": 19,
   "metadata": {},
   "outputs": [
    {
     "data": {
      "image/png": "[encoded data removed]",
      "text/plain": [
       "<matplotlib.figure.Figure at 0x21d8b33ae10>"
      ]
     },
     "metadata": {},
     "output_type": "display_data"
    }
   ],
   "source": [
    "degrees = adj.sum(axis=1)\n",
    "\n",
    "plt.hist(degrees, bins=50);"
   ]
  },
  {
   "cell_type": "code",
   "execution_count": 20,
   "metadata": {},
   "outputs": [
    {
     "data": {
      "image/png": "[encoded data removed]",
      "text/plain": [
       "<matplotlib.figure.Figure at 0x21d8651c470>"
      ]
     },
     "metadata": {},
     "output_type": "display_data"
    }
   ],
   "source": [
    "degrees_truncated = np.array(degrees)\n",
    "\n",
    "degrees_truncated = degrees_truncated[degrees_truncated < 700]\n",
    "\n",
    "plt.hist(degrees_truncated, bins=20);"
   ]
  },
  {
   "cell_type": "markdown",
   "metadata": {},
   "source": [
    "## Laplacian"
   ]
  },
  {
   "cell_type": "code",
   "execution_count": 16,
   "metadata": {
    "collapsed": true
   },
   "outputs": [],
   "source": [
    "from scipy import sparse"
   ]
  },
  {
   "cell_type": "code",
   "execution_count": 10,
   "metadata": {
    "collapsed": true
   },
   "outputs": [],
   "source": [
    "laplacian = sparse.csr_matrix(nx.laplacian_matrix(g), dtype=float)"
   ]
  },
  {
   "cell_type": "code",
   "execution_count": 12,
   "metadata": {},
   "outputs": [
    {
     "data": {
      "text/plain": [
       "<8745x8745 sparse matrix of type '<class 'numpy.int32'>'\n",
       "\twith 1167149 stored elements in Compressed Sparse Row format>"
      ]
     },
     "execution_count": 12,
     "metadata": {},
     "output_type": "execute_result"
    }
   ],
   "source": [
    "laplacian"
   ]
  },
  {
   "cell_type": "code",
   "execution_count": 24,
   "metadata": {},
   "outputs": [
    {
     "data": {
      "text/plain": [
       "<matplotlib.lines.Line2D at 0x21d871b1828>"
      ]
     },
     "execution_count": 24,
     "metadata": {},
     "output_type": "execute_result"
    },
    {
     "data": {
      "image/png": "[encoded data removed]",
      "text/plain": [
       "<matplotlib.figure.Figure at 0x21d8aa94390>"
      ]
     },
     "metadata": {},
     "output_type": "display_data"
    }
   ],
   "source": [
    "plt.spy(laplacian)"
   ]
  },
  {
   "cell_type": "code",
   "execution_count": 17,
   "metadata": {
    "collapsed": true
   },
   "outputs": [],
   "source": [
    "eigenvalues, eigenvectors = sparse.linalg.eigsh(laplacian, k=10, which='SM')"
   ]
  },
  {
   "cell_type": "code",
   "execution_count": 18,
   "metadata": {},
   "outputs": [
    {
     "data": {
      "text/plain": [
       "array([  1.03839707e-12,   3.00000000e+00,   1.39999402e+01,\n",
       "         1.40000000e+01,   1.40000000e+01,   1.40000000e+01,\n",
       "         1.40000000e+01,   1.40000000e+01,   1.40000000e+01,\n",
       "         1.42151949e+01])"
      ]
     },
     "execution_count": 18,
     "metadata": {},
     "output_type": "execute_result"
    }
   ],
   "source": [
    "eigenvalues"
   ]
  },
  {
   "cell_type": "code",
   "execution_count": 19,
   "metadata": {},
   "outputs": [
    {
     "data": {
      "text/plain": [
       "array([[  1.06935054e-02,   1.14396843e-04,  -8.27513569e-04, ...,\n",
       "          3.59568141e-14,   5.34122844e-14,  -7.46036774e-04],\n",
       "       [  1.06935054e-02,   1.14396843e-04,  -8.20237444e-04, ...,\n",
       "          4.39504132e-14,   5.56045362e-14,  -4.24866827e-03],\n",
       "       [  1.06935054e-02,   1.14396843e-04,  -8.29073376e-04, ...,\n",
       "          3.17803840e-14,   5.68213044e-14,   2.38689643e-03],\n",
       "       ..., \n",
       "       [  1.06935054e-02,   1.14396843e-04,  -8.28969347e-04, ...,\n",
       "          3.13926849e-14,   5.53770117e-14,   2.51518408e-03],\n",
       "       [  1.06935054e-02,   1.14396843e-04,  -8.28006231e-04, ...,\n",
       "          3.14766854e-14,   5.81111966e-14,   2.43801340e-03],\n",
       "       [  1.06935054e-02,   1.14396843e-04,  -7.82271235e-04, ...,\n",
       "          8.30658547e-14,   2.30105581e-13,  -5.91894026e-02]])"
      ]
     },
     "execution_count": 19,
     "metadata": {},
     "output_type": "execute_result"
    }
   ],
   "source": [
    "eigenvectors"
   ]
  },
  {
   "cell_type": "code",
   "execution_count": 22,
   "metadata": {},
   "outputs": [
    {
     "name": "stderr",
     "output_type": "stream",
     "text": [
      "C:\\Users\\Quentin\\Anaconda3\\lib\\site-packages\\scipy\\sparse\\compressed.py:214: SparseEfficiencyWarning: Comparing a sparse matrix with 0 using == is inefficient, try using != instead.\n",
      "  \", try using != instead.\", SparseEfficiencyWarning)\n"
     ]
    },
    {
     "data": {
      "text/plain": [
       "1"
      ]
     },
     "execution_count": 22,
     "metadata": {},
     "output_type": "execute_result"
    }
   ],
   "source": [
    "np.linalg.matrix_rank(laplacian)"
   ]
  },
  {
   "cell_type": "code",
   "execution_count": 20,
   "metadata": {},
   "outputs": [],
   "source": [
    "dense = laplacian.todense()"
   ]
  },
  {
   "cell_type": "code",
   "execution_count": 21,
   "metadata": {},
   "outputs": [
    {
     "data": {
      "text/plain": [
       "matrix([[ 125.,   -1.,   -1., ...,    0.,    0.,    0.],\n",
       "        [  -1.,   23.,    0., ...,    0.,    0.,    0.],\n",
       "        [  -1.,    0.,  426., ...,    0.,    0.,    0.],\n",
       "        ..., \n",
       "        [   0.,    0.,    0., ...,   17.,    0.,    0.],\n",
       "        [   0.,    0.,    0., ...,    0.,   87.,    0.],\n",
       "        [   0.,    0.,    0., ...,    0.,    0.,   15.]])"
      ]
     },
     "execution_count": 21,
     "metadata": {},
     "output_type": "execute_result"
    }
   ],
   "source": [
    "dense"
   ]
  },
  {
   "cell_type": "code",
   "execution_count": 49,
   "metadata": {},
   "outputs": [
    {
     "data": {
      "text/plain": [
       "matrix([[-1.],\n",
       "        [-1.],\n",
       "        [-1.],\n",
       "        ..., \n",
       "        [-1.],\n",
       "        [-1.],\n",
       "        [-1.]])"
      ]
     },
     "execution_count": 49,
     "metadata": {},
     "output_type": "execute_result"
    }
   ],
   "source": [
    "dense[:, 3]"
   ]
  },
  {
   "cell_type": "code",
   "execution_count": 48,
   "metadata": {},
   "outputs": [
    {
     "data": {
      "text/plain": [
       "matrix([[-1.],\n",
       "        [ 0.],\n",
       "        [ 0.],\n",
       "        ..., \n",
       "        [ 0.],\n",
       "        [ 0.],\n",
       "        [ 0.]])"
      ]
     },
     "execution_count": 48,
     "metadata": {},
     "output_type": "execute_result"
    }
   ],
   "source": [
    "dense[:, 4]"
   ]
  },
  {
   "cell_type": "code",
   "execution_count": 47,
   "metadata": {},
   "outputs": [
    {
     "data": {
      "text/plain": [
       "matrix([[-1.],\n",
       "        [-1.],\n",
       "        [-1.],\n",
       "        ..., \n",
       "        [-1.],\n",
       "        [-1.],\n",
       "        [-1.]])"
      ]
     },
     "execution_count": 47,
     "metadata": {},
     "output_type": "execute_result"
    }
   ],
   "source": [
    "dense[:, 5]"
   ]
  },
  {
   "cell_type": "code",
   "execution_count": 46,
   "metadata": {},
   "outputs": [
    {
     "data": {
      "text/plain": [
       "matrix([[-1.],\n",
       "        [ 0.],\n",
       "        [ 0.],\n",
       "        ..., \n",
       "        [ 0.],\n",
       "        [ 0.],\n",
       "        [ 0.]])"
      ]
     },
     "execution_count": 46,
     "metadata": {},
     "output_type": "execute_result"
    }
   ],
   "source": [
    "dense[:, 6]"
   ]
  },
  {
   "cell_type": "code",
   "execution_count": 42,
   "metadata": {},
   "outputs": [
    {
     "data": {
      "image/png": "[encoded data removed]",
      "text/plain": [
       "<matplotlib.figure.Figure at 0x269b739e4a8>"
      ]
     },
     "metadata": {},
     "output_type": "display_data"
    }
   ],
   "source": [
    "plt.plot(eigenvalues, '.-', markersize=15);"
   ]
  },
  {
   "cell_type": "code",
   "execution_count": null,
   "metadata": {
    "collapsed": true
   },
   "outputs": [],
   "source": []
  }
 ],
 "metadata": {
  "kernelspec": {
   "display_name": "Python 3",
   "language": "python",
   "name": "python3"
  },
  "language_info": {
   "codemirror_mode": {
    "name": "ipython",
    "version": 3
   },
   "file_extension": ".py",
   "mimetype": "text/x-python",
   "name": "python",
   "nbconvert_exporter": "python",
   "pygments_lexer": "ipython3",
   "version": "3.6.3"
  }
 },
 "nbformat": 4,
 "nbformat_minor": 2
}
