{
 "cells": [
  {
   "cell_type": "markdown",
   "metadata": {},
   "source": [
    "# NTDS Project\n",
    "\n",
    "Team members: \n",
    "* Armand Boschin\n",
    "* Bojana Ranković\n",
    "* Quentin Rebjock\n",
    "\n",
    "As a reminder, this is a reminder of the project proposal:\n",
    "\n",
    "***Graph:*** Wikipedia hyperlink network\n",
    "\n",
    "***Problem:*** Does the structure of the graph bears info on the content of the nodes ? We would like to find out if it is possible to detect communities of pages just by looking at the hyperlink connections and match these communities with real-world data such as categories of the pages. Is spectral clustering a viable possibility compared to proven method of community detection.\n",
    "\n",
    "***Steps of the project:***\n",
    "* Scraping the Wikipedia hyperlink network. Start from one node and get the pages as far as 2 or 3 hops depending on the number of nodes we get.\n",
    "* Model the network by a random graph/scale-free network/something else in order to try to retrieve some of its characteristics.\n",
    "* Apply Louvain algorithm for community detection to get a baseline to compare spectral clustering to.\n",
    "* Try to apply spectral clustering in order to detect communities of pages.\n",
    "* Visualize the clusters to match them with real-world categories (using some of the tools from the last guest lecture)."
   ]
  },
  {
   "cell_type": "code",
   "execution_count": 1,
   "metadata": {},
   "outputs": [],
   "source": [
    "import numpy as np\n",
    "import seaborn as sns\n",
    "import networkx as nx\n",
    "import matplotlib.pyplot as plt\n",
    "import operator\n",
    "import community\n",
    "\n",
    "from scipy import linalg, cluster, sparse\n",
    "\n",
    "from utils import explore_page, load_obj, save_obj, get_bag_of_communities"
   ]
  },
  {
   "cell_type": "code",
   "execution_count": 2,
   "metadata": {},
   "outputs": [],
   "source": [
    "%matplotlib inline\n",
    "%load_ext autoreload\n",
    "%autoreload 2"
   ]
  },
  {
   "cell_type": "markdown",
   "metadata": {},
   "source": [
    "# 1) Data Acquisition"
   ]
  },
  {
   "cell_type": "markdown",
   "metadata": {},
   "source": [
    "We want to acquire a sub-network of the Wikipedia hyperlink network. In such a graph, each node is a Wikipedia page and there is a link between node a and node b is there is a link to page b on page a. This is a directed network but we will make it undirected later on.\n",
    "\n",
    "The process of the acquisition is the following : \n",
    "* Start from an arbitrary root node (prefer and ambiguous page in order to get as many different communities as possible).\n",
    "* Explore the page to get the intra-wiki links and get first nodes.\n",
    "* For each first node, explore the intra-wiki links to get the second nodes.\n",
    "* Eventually look for inner links by exploring the second nodes (no link from a second node to a first node has been added yet).\n",
    "\n",
    "\n",
    "We use the `Wikipedia` API that allows us to scrap pages and get links and categories for each one. We chose to include in our network only real pages (not the disambiguation ones). Those pages are indeed useful during the scraping because they allow us to get a larger sample of the real graph. Disambiguation pages act like bridges between pages that have nothing to do together."
   ]
  },
  {
   "cell_type": "markdown",
   "metadata": {},
   "source": [
    "For each node we need to get URL, title, most important category and links to other pages."
   ]
  },
  {
   "cell_type": "markdown",
   "metadata": {},
   "source": [
    "We use as `root_node` the disambiguation page [Jaguar](https://en.wikipedia.org/wiki/Jaguar_(disambiguation) as it lists a really wide variety of themes (animals, cars, music, films, weapons...). The aim is to scrap pages from as many different communities as possible."
   ]
  },
  {
   "cell_type": "code",
   "execution_count": null,
   "metadata": {},
   "outputs": [],
   "source": [
    "root_node = 'Jaguar (disambiguation)'\n",
    "\n",
    "network = {}  # This dict stores for each page the list of its neighbors.\n",
    "first_nodes = []\n",
    "\n",
    "explore_page(root_node, network, first_nodes)\n",
    "\n",
    "second_nodes = []\n",
    "for node in first_nodes:\n",
    "    explore_page(node, network, second_nodes)"
   ]
  },
  {
   "cell_type": "markdown",
   "metadata": {},
   "source": [
    "Look for connections between second nodes and the rest of the nodes."
   ]
  },
  {
   "cell_type": "code",
   "execution_count": null,
   "metadata": {},
   "outputs": [],
   "source": [
    "all_nodes = list(network.keys()) + second_nodes\n",
    "for link in tqdm_notebook(second_nodes):\n",
    "    explore_page(link, network, [], inner=True, all_nodes=all_nodes)"
   ]
  },
  {
   "cell_type": "markdown",
   "metadata": {},
   "source": [
    "The above cell took 2 hours and 47 minutes to run (duration of scraping)."
   ]
  },
  {
   "cell_type": "markdown",
   "metadata": {},
   "source": [
    "Now we need to go through all the second nodes that were added to the dictionnary `Network` in order to remove from their neighbors the disambiguation pages that can have been added."
   ]
  },
  {
   "cell_type": "code",
   "execution_count": null,
   "metadata": {},
   "outputs": [],
   "source": [
    "all_nodes = list(network.keys())\n",
    "for title in tqdm_notebook(second_nodes):\n",
    "    network[title]['links'] = list(set(network[title]['links']).intersection(set(all_nodes)))"
   ]
  },
  {
   "cell_type": "code",
   "execution_count": null,
   "metadata": {},
   "outputs": [],
   "source": [
    "l = list(network.keys())\n",
    "for i in l:\n",
    "    if len(network[i]['links']) == 0:\n",
    "        del network[i]"
   ]
  },
  {
   "cell_type": "markdown",
   "metadata": {},
   "source": [
    "#### Cleaning the categories\n",
    "\n",
    "There are some categories for each page that are irrelevant in our work (e.g. \"All articles with unsourced statements\"). We need to get rid of those."
   ]
  },
  {
   "cell_type": "code",
   "execution_count": 71,
   "metadata": {},
   "outputs": [],
   "source": [
    "for i, title in enumerate(network.keys()):\n",
    "    cats = network[title]['categories']\n",
    "    new_cats = []\n",
    "    for c in cats:\n",
    "        if not c.startswith('Redundant') and not c.startswith('Pages') and not c.startswith('Webarchive') and not c.startswith('Wikipedia') and not c.startswith('Articles') and not c.startswith('Coordinates on Wikidata') and not 'Wikidata' in c and not c.startswith('CS1') and not c.startswith('Living') and not c.startswith('All') and not c.startswith('Good articles') and not c.startswith('Use mdy'):\n",
    "            new_cats.append(c)\n",
    "    network[title]['categories'] = new_cats"
   ]
  },
  {
   "cell_type": "markdown",
   "metadata": {},
   "source": [
    "#### Creating pickle files"
   ]
  },
  {
   "cell_type": "markdown",
   "metadata": {},
   "source": [
    "As the scraping of the network takes quite some time ($\\sim$ 3 hours) (especially getting the inner connections), we store the results in pickle files."
   ]
  },
  {
   "cell_type": "code",
   "execution_count": 177,
   "metadata": {},
   "outputs": [],
   "source": [
    "# save_obj(network, 'network')\n",
    "network = load_obj('network')"
   ]
  },
  {
   "cell_type": "markdown",
   "metadata": {},
   "source": [
    "### Network creation\n",
    "\n",
    "Let's convert the collected network into a networkx instance which is quite handy to manipulate.\n",
    "\n",
    "Let's make it undirected as well."
   ]
  },
  {
   "cell_type": "code",
   "execution_count": 4,
   "metadata": {},
   "outputs": [],
   "source": [
    "neighbors = {}\n",
    "for i in network.keys():\n",
    "    neighbors[i] = network[i]['links']"
   ]
  },
  {
   "cell_type": "code",
   "execution_count": 5,
   "metadata": {},
   "outputs": [],
   "source": [
    "g = nx.Graph(neighbors)"
   ]
  },
  {
   "cell_type": "markdown",
   "metadata": {},
   "source": [
    "# 2) Data Exploration\n",
    "\n",
    "In this part of the notebook, we provide some indicators of the data in order to understand what we'll be working on."
   ]
  },
  {
   "cell_type": "markdown",
   "metadata": {},
   "source": [
    "TODO: properties of the collected network\n",
    "\n",
    "* Adjacency matrix\n",
    "* Degrees distribution\n",
    "* Average degree\n",
    "* Diameter of the collected network\n",
    "* (Pruning the collected network if necessary ?)\n",
    "* Visualization of the network"
   ]
  },
  {
   "cell_type": "code",
   "execution_count": 6,
   "metadata": {},
   "outputs": [
    {
     "name": "stdout",
     "output_type": "stream",
     "text": [
      "Total number of nodes : 6830\n",
      "Total number of edges : 367274\n",
      "The graph is connected.\n"
     ]
    }
   ],
   "source": [
    "print('Total number of nodes : {}'.format(len(g.nodes)))\n",
    "print('Total number of edges : {}'.format(len(g.edges)))\n",
    "if nx.is_connected(g):\n",
    "    print('The graph is connected.')\n",
    "else:\n",
    "    print('The graph is not connected.')"
   ]
  },
  {
   "cell_type": "markdown",
   "metadata": {},
   "source": [
    "#### Adjacency Matrix"
   ]
  },
  {
   "cell_type": "code",
   "execution_count": 7,
   "metadata": {},
   "outputs": [],
   "source": [
    "adj = nx.adjacency_matrix(g)"
   ]
  },
  {
   "cell_type": "code",
   "execution_count": 8,
   "metadata": {},
   "outputs": [
    {
     "data": {
      "text/plain": [
       "<matplotlib.image.AxesImage at 0x7fbad3c7c2b0>"
      ]
     },
     "execution_count": 8,
     "metadata": {},
     "output_type": "execute_result"
    },
    {
     "data": {
      "image/png": "[encoded data removed]",
      "text/plain": [
       "<matplotlib.figure.Figure at 0x7fbb18023748>"
      ]
     },
     "metadata": {},
     "output_type": "display_data"
    }
   ],
   "source": [
    "plt.spy(adj.todense())"
   ]
  },
  {
   "cell_type": "markdown",
   "metadata": {},
   "source": [
    "Check if it's symmetric :"
   ]
  },
  {
   "cell_type": "code",
   "execution_count": 9,
   "metadata": {
    "scrolled": true
   },
   "outputs": [
    {
     "data": {
      "text/plain": [
       "True"
      ]
     },
     "execution_count": 9,
     "metadata": {},
     "output_type": "execute_result"
    }
   ],
   "source": [
    "(adj != adj.T).count_nonzero() == 0"
   ]
  },
  {
   "cell_type": "markdown",
   "metadata": {},
   "source": [
    "#### Degrees distribution\n",
    "\n",
    "As there are some clear outliers making the visualization difficult, we can truncate the degrees or just use a box plot."
   ]
  },
  {
   "cell_type": "code",
   "execution_count": 10,
   "metadata": {},
   "outputs": [],
   "source": [
    "degrees = np.array(adj.sum(axis=1)).squeeze()\n",
    "degrees_truncated = degrees[degrees < 700]"
   ]
  },
  {
   "cell_type": "code",
   "execution_count": 11,
   "metadata": {},
   "outputs": [
    {
     "data": {
      "image/png": "[encoded data removed]",
      "text/plain": [
       "<matplotlib.figure.Figure at 0x7fbad6a39438>"
      ]
     },
     "metadata": {},
     "output_type": "display_data"
    }
   ],
   "source": [
    "fig, ax = plt.subplots(ncols=2, sharey=True, figsize=(15,5))\n",
    "\n",
    "ax[0].set_title('Degree distribution')\n",
    "#sns.distplot(degrees, bins=50, ax=ax[0, 0])\n",
    "ax[0].hist(degrees, bins=50)\n",
    "\n",
    "ax[1].set_title('Truncated degree distribution')\n",
    "#sns.distplot(degrees_truncated, bins=20, ax=ax[0, 1])\n",
    "ax[1].hist(degrees_truncated, bins=20)\n",
    "\n",
    "plt.tight_layout()\n",
    "plt.show()"
   ]
  },
  {
   "cell_type": "code",
   "execution_count": 12,
   "metadata": {},
   "outputs": [
    {
     "data": {
      "image/png": "[encoded data removed]",
      "text/plain": [
       "<matplotlib.figure.Figure at 0x7fbad5922c88>"
      ]
     },
     "metadata": {},
     "output_type": "display_data"
    }
   ],
   "source": [
    "fig, ax = plt.subplots(ncols=2, sharey=True, figsize=(15,5))\n",
    "\n",
    "ax[0].set_title('Degree box plot')\n",
    "sns.boxplot(degrees, ax=ax[0])\n",
    "\n",
    "ax[1].set_title('Truncated degree box plot')\n",
    "sns.boxplot(degrees_truncated, ax=ax[1])\n",
    "\n",
    "plt.tight_layout()\n",
    "plt.show()"
   ]
  },
  {
   "cell_type": "markdown",
   "metadata": {},
   "source": [
    "#### Average degree"
   ]
  },
  {
   "cell_type": "code",
   "execution_count": 13,
   "metadata": {},
   "outputs": [
    {
     "name": "stdout",
     "output_type": "stream",
     "text": [
      "The average degree of the network is 107.55.\n"
     ]
    }
   ],
   "source": [
    "avg_degree = np.mean(degrees)\n",
    "print('The average degree of the network is {}.'.format(np.round(avg_degree, 2)))"
   ]
  },
  {
   "cell_type": "markdown",
   "metadata": {},
   "source": [
    "#### Diameter"
   ]
  },
  {
   "cell_type": "markdown",
   "metadata": {},
   "source": [
    "First we compute the shortest paths lengths. NetworkX allows us to do the computation and returns a dictionnary. This will be useful later on."
   ]
  },
  {
   "cell_type": "code",
   "execution_count": 14,
   "metadata": {},
   "outputs": [],
   "source": [
    "# p = dict(nx.shortest_path_length(g))\n",
    "# save_obj(p, 'shortest_paths')"
   ]
  },
  {
   "cell_type": "markdown",
   "metadata": {},
   "source": [
    "As this computation is quite long ($\\sim$ 3 hours), we dumped the resulting dictionnary in a pickle file."
   ]
  },
  {
   "cell_type": "code",
   "execution_count": 15,
   "metadata": {},
   "outputs": [],
   "source": [
    "p = load_obj('shortest_paths')"
   ]
  },
  {
   "cell_type": "markdown",
   "metadata": {},
   "source": [
    "Now the computation of the diameter results in finding the largest distance in the above dictionnary. Let's turn the dictionnary into a numpy array that is faster to manipulate."
   ]
  },
  {
   "cell_type": "code",
   "execution_count": 16,
   "metadata": {},
   "outputs": [],
   "source": [
    "nodes = list(network.keys())"
   ]
  },
  {
   "cell_type": "code",
   "execution_count": 17,
   "metadata": {},
   "outputs": [],
   "source": [
    "distances = np.zeros(shape=(len(nodes), len(nodes)))\n",
    "for i in range(len(nodes)):\n",
    "    for j in range(len(nodes)):\n",
    "        distances[i, j] = p[nodes[i]][nodes[j]]"
   ]
  },
  {
   "cell_type": "markdown",
   "metadata": {},
   "source": [
    "NB: The above computation cannot be vectorized are we are getting data from a dictionnary."
   ]
  },
  {
   "cell_type": "code",
   "execution_count": 18,
   "metadata": {},
   "outputs": [
    {
     "name": "stdout",
     "output_type": "stream",
     "text": [
      "The diameter of the network is 5.\n"
     ]
    }
   ],
   "source": [
    "diameter = np.amax(distances)\n",
    "print('The diameter of the network is {}.'.format(int(diameter)))"
   ]
  },
  {
   "cell_type": "markdown",
   "metadata": {},
   "source": [
    "At first sight, if we had scraped first nodes and then second nodes, we should have had a diameter less than 4. Because a node should be at distance at most 2 from the root node.\n",
    "\n",
    "Here, thanks to the use of disambiguation pages, we manage to get nodes that are further away from the root node but surprisingly our graph is connected anyway."
   ]
  },
  {
   "cell_type": "markdown",
   "metadata": {},
   "source": [
    "#### Visualization"
   ]
  },
  {
   "cell_type": "code",
   "execution_count": null,
   "metadata": {},
   "outputs": [],
   "source": [
    "nx.draw(g, node_size=5)"
   ]
  },
  {
   "cell_type": "markdown",
   "metadata": {},
   "source": [
    "# 3) Data Exploitation"
   ]
  },
  {
   "cell_type": "markdown",
   "metadata": {},
   "source": [
    "## 3.1) Modelisation of the network"
   ]
  },
  {
   "cell_type": "code",
   "execution_count": null,
   "metadata": {},
   "outputs": [],
   "source": [
    "def plot_degree_distr(graph):\n",
    "    d = list(dict(graph.degree()).values())\n",
    "    plt.hist(list(d), bins = 16);\n",
    "    plt.ylabel('Number of vertices')\n",
    "    plt.xlabel('Degree')\n",
    "    plt.title('Degree distribution')\n",
    "    plt.show()"
   ]
  },
  {
   "cell_type": "code",
   "execution_count": null,
   "metadata": {},
   "outputs": [],
   "source": [
    "nNodes = len(g.nodes())\n",
    "nEdges = g.size()\n",
    "\n",
    "print('The network has {0} nodes and {1} edges.'.format(nNodes, nEdges))"
   ]
  },
  {
   "cell_type": "markdown",
   "metadata": {},
   "source": [
    "We would like to create a model with approximatively the same number of nodes and edges, and with the same degree distribution."
   ]
  },
  {
   "cell_type": "markdown",
   "metadata": {},
   "source": [
    "#### Erdős–Rényi graph"
   ]
  },
  {
   "cell_type": "code",
   "execution_count": null,
   "metadata": {},
   "outputs": [],
   "source": [
    "p = 2*nEdges/nNodes/(nNodes - 1)\n",
    "p"
   ]
  },
  {
   "cell_type": "code",
   "execution_count": null,
   "metadata": {},
   "outputs": [],
   "source": [
    "er = nx.erdos_renyi_graph(nNodes, p)\n",
    "\n",
    "plot_degree_distr(er)"
   ]
  },
  {
   "cell_type": "markdown",
   "metadata": {},
   "source": [
    "It clearly doesn't match the distribution of our network."
   ]
  },
  {
   "cell_type": "markdown",
   "metadata": {},
   "source": [
    "#### Barabási-Albert"
   ]
  },
  {
   "cell_type": "code",
   "execution_count": null,
   "metadata": {},
   "outputs": [],
   "source": [
    "ba=nx.barabasi_albert_graph(nNodes, 68)\n",
    "\n",
    "print('This Barabási-Albert network has {} edges.'.format(ba.size()))"
   ]
  },
  {
   "cell_type": "code",
   "execution_count": null,
   "metadata": {},
   "outputs": [],
   "source": [
    "plot_degree_distr(ba)"
   ]
  },
  {
   "cell_type": "code",
   "execution_count": null,
   "metadata": {},
   "outputs": [],
   "source": [
    "ba_degrees = list(dict(ba.degree()).values())\n",
    "\n",
    "\n",
    "plt.hist(degrees_truncated, 20, alpha=0.5, label='Collected network')\n",
    "plt.hist(ba_degrees, 20, alpha=0.5, label='Barabási-Albert network')\n",
    "plt.legend(loc='upper right')\n",
    "plt.show()"
   ]
  },
  {
   "cell_type": "markdown",
   "metadata": {},
   "source": [
    "#### Giant components"
   ]
  },
  {
   "cell_type": "markdown",
   "metadata": {},
   "source": [
    "## 3.2) Community detection using Spectral clustering\n",
    "\n",
    "\n",
    "\n",
    "We will try to use the collected data to answer our problem which is: \n",
    " **Can we isolate communities of pages just by looking at the hyperlink graph ? **\n",
    " \n",
    "This is the famous community detection problem for which a popular method is the [Louvain Algorithm](https://en.wikipedia.org/wiki/Louvain_Modularity).\n",
    " \n",
    "The measure of performance we will use for the community detection is the modularity. Modularity measures the strengh of the division of a network into sub-groups. A network with high modularity has dense intra-connections (within sub-groups) and sparse inter-connections (between different groups).\n",
    "\n",
    "Louvain as been presented in 2008 and though it has been improved [[1](https://link.springer.com/chapter/10.1007/978-3-319-11683-9_12)], we will use this as a baseline to compare the performance of spectral clustering for community detection.\n",
    "\n",
    "The steps are the following :\n",
    " * Louvain algorithm as a baseline\n",
    " * Spectral clustering\n",
    " * Visualization of the communities"
   ]
  },
  {
   "cell_type": "markdown",
   "metadata": {},
   "source": [
    "### 3.2.1) Louvain community detection\n",
    "\n",
    "We use the Python library [`community`](https://pypi.python.org/pypi/python-louvain/0.3) that implements the Louvain algorithm.\n",
    "\n",
    "This library also allows us to compute the modularity of a given partition of the nodes."
   ]
  },
  {
   "cell_type": "code",
   "execution_count": 19,
   "metadata": {},
   "outputs": [],
   "source": [
    "louvain_partition = community.best_partition(g)"
   ]
  },
  {
   "cell_type": "code",
   "execution_count": 20,
   "metadata": {},
   "outputs": [
    {
     "data": {
      "text/plain": [
       "0.7878265124723326"
      ]
     },
     "execution_count": 20,
     "metadata": {},
     "output_type": "execute_result"
    }
   ],
   "source": [
    "louvain_modularity = community.modularity(louvain_partition, g)\n",
    "louvain_modularity"
   ]
  },
  {
   "cell_type": "code",
   "execution_count": 25,
   "metadata": {},
   "outputs": [
    {
     "name": "stdout",
     "output_type": "stream",
     "text": [
      "Louvain algorithm found 16 communities\n"
     ]
    }
   ],
   "source": [
    "k_louvain = len(set(louvain_partition.values()))\n",
    "print('Louvain algorithm found {} communities'.format(k_louvain))"
   ]
  },
  {
   "cell_type": "markdown",
   "metadata": {},
   "source": [
    "We can try to visualize the categories of the nodes in each of these communities. From the scraping, we got for each page a list of categories in which the page belongs. Let's compute for each community what we'll call a bag of categories that is the list of all the categories of the nodes it contains and the count of the number of nodes that belong to this category for each one.\n",
    "\n",
    "The function can be found in `utils.py`, it's implementation is quite straight-forward."
   ]
  },
  {
   "cell_type": "code",
   "execution_count": 72,
   "metadata": {},
   "outputs": [],
   "source": [
    "louvain_bag = get_bag_of_communities(network, louvain_partition)"
   ]
  },
  {
   "cell_type": "markdown",
   "metadata": {},
   "source": [
    "Let's get the number of pages in each community."
   ]
  },
  {
   "cell_type": "code",
   "execution_count": 111,
   "metadata": {},
   "outputs": [],
   "source": [
    "louvain_counts = [0 for _ in range(k_louvain)]\n",
    "for i, title in enumerate(louvain_partition.keys()):\n",
    "    louvain_counts[louvain_partition[title]] += 1"
   ]
  },
  {
   "cell_type": "markdown",
   "metadata": {},
   "source": [
    "Now we want to visualize the categories of the nodes in each community. We print for each community the 10 most represented categories of the community."
   ]
  },
  {
   "cell_type": "code",
   "execution_count": 112,
   "metadata": {
    "scrolled": true
   },
   "outputs": [
    {
     "name": "stdout",
     "output_type": "stream",
     "text": [
      " \n",
      "Community 1/16 (1120 pages) : \n",
      "('Single-engined tractor aircraft', 102)\n",
      "('Carrier-based aircraft', 92)\n",
      "('Biplanes', 66)\n",
      "('Low-wing aircraft', 65)\n",
      "('Single-engined jet aircraft', 57)\n",
      "('High-wing aircraft', 53)\n",
      "('Twinjets', 48)\n",
      "('Mid-wing aircraft', 45)\n",
      "('Grumman aircraft', 44)\n",
      "('Breguet aircraft', 44)\n",
      " \n",
      "Community 2/16 (549 pages) : \n",
      "('Jaguar vehicles', 44)\n",
      "('Ford Motor Company', 43)\n",
      "('Rear-wheel-drive vehicles', 40)\n",
      "('Motor vehicle manufacturers of the United Kingdom', 36)\n",
      "('Defunct motor vehicle manufacturers of England', 33)\n",
      "('Car manufacturers of the United Kingdom', 30)\n",
      "('Car brands', 29)\n",
      "('Sports car manufacturers', 29)\n",
      "('Defunct motor vehicle manufacturers of the United Kingdom', 28)\n",
      "('Former defence companies of the United Kingdom', 28)\n",
      " \n",
      "Community 3/16 (331 pages) : \n",
      "('Liga MX seasons', 73)\n",
      "('Liga MX teams', 18)\n",
      "('Member states of the United Nations', 17)\n",
      "('Spanish-speaking countries and territories', 16)\n",
      "('Liga MX players', 15)\n",
      "('Former Spanish colonies', 15)\n",
      "('Chiapas F.C. managers', 13)\n",
      "('Interlanguage link template link number', 12)\n",
      "('Mexican footballers', 12)\n",
      "('Republics', 11)\n",
      " \n",
      "Community 4/16 (1000 pages) : \n",
      "('Jacksonville Jaguars players', 116)\n",
      "('Jacksonville Jaguars currentteam parameter articles', 86)\n",
      "('Infobox NFL biography articles missing alt text', 68)\n",
      "('NFL player missing current team parameter', 48)\n",
      "('NFL player with coaching information', 36)\n",
      "('National Football League teams', 32)\n",
      "('Jacksonville Jaguars coaches', 30)\n",
      "('American football wide receivers', 27)\n",
      "('Football team templates which use American parameter', 26)\n",
      "('National Football League seasons', 24)\n",
      " \n",
      "Community 5/16 (375 pages) : \n",
      "('MacOS', 70)\n",
      "('IOS (Apple)', 33)\n",
      "('Apple Inc. executives', 33)\n",
      "('Apple Inc. software', 26)\n",
      "('IOS software', 23)\n",
      "('Apple Inc.', 23)\n",
      "('Apple Inc. services', 22)\n",
      "('Classic Mac OS', 21)\n",
      "('MacOS-only software made by Apple Inc.', 20)\n",
      "('Macintosh stubs', 20)\n",
      " \n",
      "Community 6/16 (478 pages) : \n",
      "('Ship infoboxes without an image', 115)\n",
      "('Empire ships', 65)\n",
      "('Maritime incidents in March 1942', 63)\n",
      "('Steamships of the United Kingdom', 62)\n",
      "('Ministry of War Transport ships', 61)\n",
      "('Maritime incidents in May 1940', 53)\n",
      "('Use dmy dates from January 2017', 42)\n",
      "('1943 ships', 41)\n",
      "('Clyde-built ships', 36)\n",
      "('Merchant ships of the United Kingdom', 34)\n",
      " \n",
      "Community 7/16 (351 pages) : \n",
      "('Formula One constructors', 123)\n",
      "('Formula One entrants', 115)\n",
      "('British racecar constructors', 47)\n",
      "('British auto racing teams', 47)\n",
      "('Use British English from July 2015', 42)\n",
      "('Use dmy dates from July 2015', 37)\n",
      "('Use dmy dates from October 2017', 28)\n",
      "('24 Hours of Le Mans drivers', 28)\n",
      "('Italian racecar constructors', 26)\n",
      "('Italian auto racing teams', 25)\n",
      " \n",
      "Community 8/16 (619 pages) : \n",
      "('Best Original Song Academy Award-winning songwriters', 114)\n",
      "('Grammy Award winners', 93)\n",
      "('Best Original Song Academy Award-winning songs', 80)\n",
      "('Songwriters Hall of Fame inductees', 62)\n",
      "('Perry Como songs', 57)\n",
      "('Music infoboxes with deprecated parameters', 57)\n",
      "('20th-century American musicians', 43)\n",
      "('Songwriters from New York (state)', 35)\n",
      "('Jewish American songwriters', 33)\n",
      "('20th-century American singers', 31)\n",
      " \n",
      "Community 9/16 (126 pages) : \n",
      "('Police weapons', 30)\n",
      "('Revolvers', 23)\n",
      "('Use dmy dates from June 2017', 19)\n",
      "('.380 ACP firearms', 19)\n",
      "('Beretta pistols', 19)\n",
      "('.38 Special firearms', 18)\n",
      "('Beretta firearms', 15)\n",
      "('Pistol and rifle cartridges', 14)\n",
      "('.357 Magnum firearms', 12)\n",
      "('9mm Parabellum firearms', 12)\n",
      " \n",
      "Community 10/16 (577 pages) : \n",
      "('IUCN Red List least concern species', 167)\n",
      "('Carnivora stubs', 56)\n",
      "('IUCN Red List vulnerable species', 43)\n",
      "('Mammals of the United States', 37)\n",
      "('Mammal genera', 36)\n",
      "('Carnivorans of Africa', 35)\n",
      "('Mammals of Asia', 34)\n",
      "('Carnivorans of Malaysia', 34)\n",
      "('Mammals described in 1758', 33)\n",
      "('Mammals of India', 32)\n",
      " \n",
      "Community 11/16 (240 pages) : \n",
      "('Use dmy dates from March 2014', 67)\n",
      "('EngvarB from March 2014', 66)\n",
      "('Rugby union tours of South Africa', 37)\n",
      "('Argentina national rugby union team tours', 28)\n",
      "('Argentine rugby union players', 16)\n",
      "('Argentine sport stubs', 15)\n",
      "('British and Irish Lions tours of South Africa', 14)\n",
      "('Rugby union tours of Zimbabwe', 12)\n",
      "('World Rugby Nations Cup', 12)\n",
      "('Argentina national rugby union team matches', 12)\n",
      " \n",
      "Community 12/16 (72 pages) : \n",
      "('British Royal Warrant holders', 59)\n",
      "('British brands', 15)\n",
      "('Luxury brands', 12)\n",
      "('Shops in London', 9)\n",
      "('High fashion brands', 6)\n",
      "('Clothing brands of the United Kingdom', 6)\n",
      "('Clothing companies based in London', 5)\n",
      "('Clothing companies of the United Kingdom', 5)\n",
      "('Use dmy dates from September 2017', 5)\n",
      "('Tailors', 4)\n",
      " \n",
      "Community 13/16 (333 pages) : \n",
      "('Character pop', 109)\n",
      "('Comics articles needing issue citations', 80)\n",
      "('Title pop', 63)\n",
      "('Converting comics character infoboxes', 57)\n",
      "('Marvel Comics superheroes', 53)\n",
      "('Comics infobox without image', 50)\n",
      "('Archie Comics titles', 49)\n",
      "('Comics navigational boxes purge', 48)\n",
      "('Marvel Comics supervillains', 35)\n",
      "('Characters created by Stan Lee', 35)\n",
      " \n",
      "Community 14/16 (65 pages) : \n",
      "('Fender electric guitars', 36)\n",
      "('Guitar stubs', 7)\n",
      "('Musical instruments invented in the 1950s', 7)\n",
      "('Fender Musical Instruments Corporation', 5)\n",
      "('Musical instruments invented in the 1960s', 4)\n",
      "(\"The Beatles' musical instruments\", 4)\n",
      "('Musical instruments invented in the 1990s', 4)\n",
      "('Guitar pickups', 4)\n",
      "('Guitar manufacturing companies', 4)\n",
      "('Fender electric bass guitars', 3)\n",
      " \n",
      "Community 15/16 (452 pages) : \n",
      "('Home video game consoles', 65)\n",
      "('Advanced Micro Devices x86 microprocessors', 48)\n",
      "('1990s toys', 26)\n",
      "('Single-board computers', 22)\n",
      "('Advanced Micro Devices microarchitectures', 19)\n",
      "('2000s toys', 18)\n",
      "('Second-generation video game consoles', 18)\n",
      "('Fifth-generation video game consoles', 17)\n",
      "('1980s toys', 17)\n",
      "('ARM architecture', 17)\n",
      " \n",
      "Community 16/16 (142 pages) : \n",
      "('Social classes', 37)\n",
      "('Social groups', 10)\n",
      "('Social class in the United States', 8)\n",
      "('Social status', 7)\n",
      "('Employment classifications', 7)\n",
      "('Social inequality', 6)\n",
      "('Sociological terminology', 6)\n",
      "('Discrimination', 6)\n",
      "('Wealth in the United States', 5)\n",
      "('Working class', 5)\n"
     ]
    }
   ],
   "source": [
    "for i in range(k_louvain):\n",
    "    sorted_bag = sorted(louvain_bag[i].items(), key=operator.itemgetter(1), reverse=True)\n",
    "    print(' ')\n",
    "    print('Community {}/{} ({} pages) : '.format(i+1, k_louvain, louvain_counts[i]))\n",
    "    for ind in range(10):\n",
    "        print(sorted_bag[ind])"
   ]
  },
  {
   "attachments": {},
   "cell_type": "markdown",
   "metadata": {},
   "source": [
    "We can see that we get some nice results because it seems that a general topic can be infered for each community. The topics are: \n",
    "\n",
    "|Louvain Order|Alphabetical Order|\n",
    "|---|---|\n",
    "|Aircrafts| Aircrafts|\n",
    "|Cars|American Footbal|\n",
    "|Spanish related topics| Animals / mammals |\n",
    "|American Footbal| Apple inc. |\n",
    "|Apple inc.| British ships |\n",
    "|British ships| Cars |\n",
    "|Formula One car races| Comics and fictional characters |\n",
    "|Songwriters| Electronics |\n",
    "|Weapons| Formula One car races |\n",
    "|Animals / mammals| Luxury in Britain |\n",
    "|Rugby| Music instruments |\n",
    "|Luxury in Britain| Rugby |\n",
    "|Comics and fictional characters| Social science |\n",
    "|Music instruments| Songwriters |\n",
    "|Electronics| Spanish related topics |\n",
    "|Social science | Weapons |"
   ]
  },
  {
   "cell_type": "markdown",
   "metadata": {},
   "source": [
    "### 3.2.2) Spectral Clustering\n",
    "\n",
    "Nows let's try a spectral clustering approach for this community detection problem."
   ]
  },
  {
   "cell_type": "markdown",
   "metadata": {},
   "source": [
    "#### 3.2.2.1 Using the natural graph\n",
    "\n",
    "The first idea is to use the natural graph, that is each node is a page and there is an edge of weight 1 between two pages if one of the pages links to the other."
   ]
  },
  {
   "cell_type": "markdown",
   "metadata": {},
   "source": [
    "We define the graph laplacian using the formula $L = D- A$ where $D$ is the diagonal matrix containing the degrees and $A$ is the adjacency matrix."
   ]
  },
  {
   "cell_type": "code",
   "execution_count": 156,
   "metadata": {},
   "outputs": [],
   "source": [
    "laplacian = np.diag(degrees) - adj.todense()\n",
    "laplacian = sparse.csr_matrix(laplacian)"
   ]
  },
  {
   "cell_type": "code",
   "execution_count": 157,
   "metadata": {},
   "outputs": [
    {
     "data": {
      "text/plain": [
       "<matplotlib.image.AxesImage at 0x7fbad1711ef0>"
      ]
     },
     "execution_count": 157,
     "metadata": {},
     "output_type": "execute_result"
    },
    {
     "data": {
      "image/png": "[encoded data removed]",
      "text/plain": [
       "<matplotlib.figure.Figure at 0x7fbad1758b00>"
      ]
     },
     "metadata": {},
     "output_type": "display_data"
    }
   ],
   "source": [
    "plt.spy(laplacian.todense())"
   ]
  },
  {
   "cell_type": "markdown",
   "metadata": {},
   "source": [
    "In order to do spectral clustering using this Laplacian, we need to compute the $k$ first eigenvalues and corresponding eigenvectors. We get a matrix $U$ of $\\mathbb{R}^{n \\times k}$ where $n$ is the number of nodes in the graph. Applying a k-means algorithm in order to clusterize the $n$ vectors of $\\mathbb{R}^k$ corresponding to the lines of $U$ gives us a clustering of the $n$ nodes."
   ]
  },
  {
   "cell_type": "markdown",
   "metadata": {},
   "source": [
    "Here we need to specify the number of clusters (communities) we want to look for. Let's use the same number as the number of cummunities Louvain algo returned."
   ]
  },
  {
   "cell_type": "code",
   "execution_count": 158,
   "metadata": {},
   "outputs": [],
   "source": [
    "k_spectral = k_louvain + 5"
   ]
  },
  {
   "cell_type": "code",
   "execution_count": 159,
   "metadata": {},
   "outputs": [],
   "source": [
    "eigenvalues, eigenvectors = sparse.linalg.eigsh(laplacian.asfptype(), k=k_spectral, which='SM')"
   ]
  },
  {
   "cell_type": "code",
   "execution_count": 160,
   "metadata": {},
   "outputs": [
    {
     "data": {
      "text/plain": [
       "[<matplotlib.lines.Line2D at 0x7fbad1736278>]"
      ]
     },
     "execution_count": 160,
     "metadata": {},
     "output_type": "execute_result"
    },
    {
     "data": {
      "image/png": "[encoded data removed]",
      "text/plain": [
       "<matplotlib.figure.Figure at 0x7fbad177ef28>"
      ]
     },
     "metadata": {},
     "output_type": "display_data"
    }
   ],
   "source": [
    "plt.plot(eigenvalues, '.-', markersize=15)"
   ]
  },
  {
   "cell_type": "code",
   "execution_count": 178,
   "metadata": {},
   "outputs": [
    {
     "data": {
      "text/plain": [
       "array([-5.70463813e-14,  8.67614857e-01])"
      ]
     },
     "execution_count": 178,
     "metadata": {},
     "output_type": "execute_result"
    }
   ],
   "source": [
    "eigenvalues[:2]"
   ]
  },
  {
   "cell_type": "markdown",
   "metadata": {},
   "source": [
    "We check that the first eigenvalue is 0 but the second is not. The graph is connected."
   ]
  },
  {
   "cell_type": "markdown",
   "metadata": {},
   "source": [
    "Now we clusterize the resulting vectors in $\\mathbb{R}^k$"
   ]
  },
  {
   "cell_type": "code",
   "execution_count": 161,
   "metadata": {},
   "outputs": [
    {
     "name": "stderr",
     "output_type": "stream",
     "text": [
      "/usr/local/lib/python3.5/dist-packages/scipy/cluster/vq.py:523: UserWarning: One of the clusters is empty. Re-run kmeans with a different initialization.\n",
      "  warnings.warn(\"One of the clusters is empty. \"\n"
     ]
    }
   ],
   "source": [
    "centroids, labels = cluster.vq.kmeans2(eigenvectors, k_spectral)"
   ]
  },
  {
   "cell_type": "markdown",
   "metadata": {},
   "source": [
    "In order to get a first idea of how this algorithm did, let's look at the number of nodes in each cluster."
   ]
  },
  {
   "cell_type": "code",
   "execution_count": 162,
   "metadata": {},
   "outputs": [
    {
     "data": {
      "text/plain": [
       "'68, 1, 0, 1, 0, 2, 2, 1, 0, 3, 2, 1, 1, 2, 1, 6741, 1, 0, 1, 1, 1, 0, 0, 0, 0, 0, 0, 0, 0, 0, 0, 0, 0, 0, 0, 0, 0, 0, 0, 0'"
      ]
     },
     "execution_count": 162,
     "metadata": {},
     "output_type": "execute_result"
    }
   ],
   "source": [
    "cc = [0 for i in range(40)]\n",
    "for i in labels:\n",
    "    cc[i] += 1\n",
    "', '.join([str(i) for i in cc])"
   ]
  },
  {
   "cell_type": "markdown",
   "metadata": {},
   "source": [
    "We can see that with almost all the clusters containing less than 3 nodes, this first algorithm did not perform really well."
   ]
  },
  {
   "cell_type": "markdown",
   "metadata": {},
   "source": [
    "### 3.2.2.2 Building another graph\n",
    "\n",
    "As we have seen in class and in one of the homework. In order for spectral clustering to work, we need to assign edge weights that are stronger the closer the nodes are.\n",
    "\n",
    "Let's build another graph with still the same vertex but some new edges between them.\n",
    "\n",
    "We have already computed the distances in the graph let's define edges with weights using a kernel (e.g. the Gaussian kernel)."
   ]
  },
  {
   "cell_type": "code",
   "execution_count": 163,
   "metadata": {},
   "outputs": [],
   "source": [
    "kernel_width = distances.mean()\n",
    "weights = np.exp(-np.square(distances)/kernel_width**2)\n",
    "\n",
    "np.fill_diagonal(weights, 0)"
   ]
  },
  {
   "cell_type": "markdown",
   "metadata": {},
   "source": [
    "This creates a complete graph. We could sparsify it for faster computations but this is not really long and experience seems to show that results are better with the full graph."
   ]
  },
  {
   "cell_type": "code",
   "execution_count": 164,
   "metadata": {},
   "outputs": [
    {
     "data": {
      "image/png": "[encoded data removed]",
      "text/plain": [
       "<matplotlib.figure.Figure at 0x7fbad1728278>"
      ]
     },
     "metadata": {},
     "output_type": "display_data"
    }
   ],
   "source": [
    "degrees = np.sum(weights, axis=0)\n",
    "\n",
    "plt.hist(degrees, bins=50);"
   ]
  },
  {
   "cell_type": "code",
   "execution_count": 165,
   "metadata": {},
   "outputs": [],
   "source": [
    "laplacian = np.diag(1/np.sqrt(degrees)).dot((np.diag(degrees) - weights).dot(np.diag(1/np.sqrt(degrees))))"
   ]
  },
  {
   "cell_type": "markdown",
   "metadata": {},
   "source": [
    "We can check that the obtained Laplacian matrix is symmetric."
   ]
  },
  {
   "cell_type": "code",
   "execution_count": 166,
   "metadata": {},
   "outputs": [
    {
     "data": {
      "text/plain": [
       "True"
      ]
     },
     "execution_count": 166,
     "metadata": {},
     "output_type": "execute_result"
    }
   ],
   "source": [
    "tol = 1e-8\n",
    "np.allclose(laplacian, laplacian.T, atol=tol)"
   ]
  },
  {
   "cell_type": "code",
   "execution_count": 167,
   "metadata": {},
   "outputs": [],
   "source": [
    "eigenvalues, eigenvectors = linalg.eigh(laplacian, eigvals=(0, k_spectral-1))"
   ]
  },
  {
   "cell_type": "code",
   "execution_count": 168,
   "metadata": {},
   "outputs": [
    {
     "data": {
      "text/plain": [
       "[<matplotlib.lines.Line2D at 0x7fbad16b33c8>]"
      ]
     },
     "execution_count": 168,
     "metadata": {},
     "output_type": "execute_result"
    },
    {
     "data": {
      "image/png": "[encoded data removed]",
      "text/plain": [
       "<matplotlib.figure.Figure at 0x7fbad177c240>"
      ]
     },
     "metadata": {},
     "output_type": "display_data"
    }
   ],
   "source": [
    "plt.plot(eigenvalues, '.-', markersize=15)"
   ]
  },
  {
   "cell_type": "code",
   "execution_count": 169,
   "metadata": {},
   "outputs": [],
   "source": [
    "centroids, labels = cluster.vq.kmeans2(eigenvectors, k_spectral)"
   ]
  },
  {
   "cell_type": "code",
   "execution_count": 170,
   "metadata": {},
   "outputs": [
    {
     "data": {
      "text/plain": [
       "'397, 475, 425, 983, 81, 310, 482, 164, 331, 480, 203, 359, 364, 296, 322, 158, 141, 154, 275, 297, 133'"
      ]
     },
     "execution_count": 170,
     "metadata": {},
     "output_type": "execute_result"
    }
   ],
   "source": [
    "cc = [0 for i in range(k_spectral)]\n",
    "for i in labels:\n",
    "    cc[i] += 1\n",
    "', '.join([str(i) for i in cc])"
   ]
  },
  {
   "cell_type": "markdown",
   "metadata": {},
   "source": [
    "This seems better. We get pages distributed among all the clusters (with somme clusters more important than the others of course."
   ]
  },
  {
   "cell_type": "markdown",
   "metadata": {},
   "source": [
    "First let's have a look at the categories of each cluster."
   ]
  },
  {
   "cell_type": "code",
   "execution_count": 171,
   "metadata": {},
   "outputs": [],
   "source": [
    "spectral_partition = {}\n",
    "for i, title in enumerate(network.keys()):\n",
    "    spectral_partition[title] = labels[i]"
   ]
  },
  {
   "cell_type": "code",
   "execution_count": 172,
   "metadata": {},
   "outputs": [],
   "source": [
    "spectral_bag = get_bag_of_communities(network, spectral_partition)"
   ]
  },
  {
   "cell_type": "code",
   "execution_count": 173,
   "metadata": {},
   "outputs": [],
   "source": [
    "spectral_counts = [0 for _ in range(k_spectral)]\n",
    "for i, title in enumerate(spectral_partition.keys()):\n",
    "    spectral_counts[spectral_partition[title]] += 1"
   ]
  },
  {
   "cell_type": "code",
   "execution_count": 174,
   "metadata": {
    "scrolled": true
   },
   "outputs": [
    {
     "name": "stdout",
     "output_type": "stream",
     "text": [
      " \n",
      "Community 1/21 (397 pages) : \n",
      "('Empire ships', 64)\n",
      "('Ship infoboxes without an image', 62)\n",
      "('Ministry of War Transport ships', 61)\n",
      "('Steamships of the United Kingdom', 59)\n",
      "('Use dmy dates from January 2017', 34)\n",
      "('Merchant ships of the United Kingdom', 31)\n",
      "('Use British English from January 2017', 27)\n",
      "('Single-engined tractor aircraft', 27)\n",
      "('Use dmy dates from December 2016', 25)\n",
      "('Clyde-built ships', 24)\n",
      " \n",
      "Community 2/21 (475 pages) : \n",
      "('IUCN Red List least concern species', 166)\n",
      "('Carnivora stubs', 56)\n",
      "('IUCN Red List vulnerable species', 42)\n",
      "('Mammals of the United States', 36)\n",
      "('Mammal genera', 36)\n",
      "('Carnivorans of Africa', 35)\n",
      "('Carnivorans of Malaysia', 34)\n",
      "('Mammals of Asia', 34)\n",
      "('Mammals described in 1758', 33)\n",
      "('Mammals of India', 32)\n",
      " \n",
      "Community 3/21 (425 pages) : \n",
      "('Jacksonville Jaguars players', 115)\n",
      "('Jacksonville Jaguars currentteam parameter articles', 85)\n",
      "('Infobox NFL biography articles missing alt text', 64)\n",
      "('NFL player missing current team parameter', 44)\n",
      "('NFL player with coaching information', 35)\n",
      "('Jacksonville Jaguars coaches', 30)\n",
      "('National Football League teams', 28)\n",
      "('American football wide receivers', 27)\n",
      "('National Football League seasons', 24)\n",
      "('Jacksonville Jaguars seasons', 24)\n",
      " \n",
      "Community 4/21 (983 pages) : \n",
      "('Member states of the United Nations', 44)\n",
      "('Use dmy dates from June 2017', 28)\n",
      "('Interlanguage link template link number', 26)\n",
      "('Liberal democracies', 26)\n",
      "('Police weapons', 20)\n",
      "('Revolvers', 18)\n",
      "('Republics', 16)\n",
      "('Former Spanish colonies', 16)\n",
      "('Beretta pistols', 15)\n",
      "('Spanish-speaking countries and territories', 15)\n",
      " \n",
      "Community 5/21 (81 pages) : \n",
      "('Use dmy dates from March 2014', 14)\n",
      "('EngvarB from March 2014', 14)\n",
      "('Argentina national rugby union team tours', 12)\n",
      "('European national rugby union teams', 8)\n",
      "('History of rugby union matches between Argentina and Ireland', 8)\n",
      "('Rugby union tours of South Africa', 8)\n",
      "('Rugby union tours of Ireland', 7)\n",
      "('World Rugby Nations Cup', 7)\n",
      "('Rugby union tours of Italy', 6)\n",
      "('International rugby union competitions hosted by Romania', 5)\n",
      " \n",
      "Community 6/21 (310 pages) : \n",
      "('Formula One constructors', 127)\n",
      "('Formula One entrants', 118)\n",
      "('British racecar constructors', 53)\n",
      "('British auto racing teams', 48)\n",
      "('Use British English from July 2015', 38)\n",
      "('Use dmy dates from July 2015', 34)\n",
      "('Use dmy dates from October 2017', 26)\n",
      "('Italian racecar constructors', 25)\n",
      "('Italian auto racing teams', 24)\n",
      "('24 Hours of Le Mans drivers', 19)\n",
      " \n",
      "Community 7/21 (482 pages) : \n",
      "('British Royal Warrant holders', 49)\n",
      "('Motor vehicle manufacturers of the United Kingdom', 36)\n",
      "('Ford Motor Company', 35)\n",
      "('British brands', 32)\n",
      "('Rear-wheel-drive vehicles', 31)\n",
      "('Jaguar vehicles', 31)\n",
      "('Defunct motor vehicle manufacturers of England', 30)\n",
      "('Car manufacturers of the United Kingdom', 29)\n",
      "('Sports car manufacturers', 28)\n",
      "('Car brands', 25)\n",
      " \n",
      "Community 8/21 (164 pages) : \n",
      "('Use dmy dates from March 2014', 52)\n",
      "('EngvarB from March 2014', 51)\n",
      "('Rugby union tours of South Africa', 29)\n",
      "('Argentine rugby union players', 16)\n",
      "('Argentina national rugby union team tours', 16)\n",
      "('Argentine sport stubs', 15)\n",
      "('British and Irish Lions tours of South Africa', 13)\n",
      "('Rugby union tours of Zimbabwe', 12)\n",
      "('Jaguares (Super Rugby) players', 11)\n",
      "('Rugby union competitions in Argentina', 11)\n",
      " \n",
      "Community 9/21 (331 pages) : \n",
      "('Best Original Song Academy Award-winning songwriters', 113)\n",
      "('Grammy Award winners', 77)\n",
      "('Best Original Song Academy Award-winning songs', 63)\n",
      "('Songwriters Hall of Fame inductees', 60)\n",
      "('20th-century American musicians', 39)\n",
      "('Jewish American songwriters', 33)\n",
      "('Songwriters from New York (state)', 33)\n",
      "('20th-century American singers', 25)\n",
      "('Best Original Song Golden Globe winning songs', 23)\n",
      "('American singer-songwriters', 22)\n",
      " \n",
      "Community 10/21 (480 pages) : \n",
      "('Football team templates which use American parameter', 17)\n",
      "('Soccer clubs in Florida', 9)\n",
      "('Single-engined tractor aircraft', 9)\n",
      "('Grumman aircraft', 8)\n",
      "('Pistol and rifle cartridges', 7)\n",
      "('Universities and colleges accredited by the Southern Association of Colleges and Schools', 7)\n",
      "('Sports in Indianapolis', 7)\n",
      "('Instances of Infobox university using image size', 7)\n",
      "('24 Hours of Le Mans drivers', 7)\n",
      "('Roller derby leagues in Florida', 7)\n",
      " \n",
      "Community 11/21 (203 pages) : \n",
      "('Home video game consoles', 65)\n",
      "('1990s toys', 26)\n",
      "('Second-generation video game consoles', 18)\n",
      "('2000s toys', 18)\n",
      "('Fifth-generation video game consoles', 17)\n",
      "('1980s toys', 17)\n",
      "('Third-generation video game consoles', 15)\n",
      "('Fourth-generation video game consoles', 15)\n",
      "('CD-ROM-based consoles', 14)\n",
      "('Atari consoles', 13)\n",
      " \n",
      "Community 12/21 (359 pages) : \n",
      "('Maritime incidents in March 1942', 57)\n",
      "('Ship infoboxes without an image', 49)\n",
      "('Maritime incidents in May 1940', 40)\n",
      "('1943 ships', 28)\n",
      "('Ships sunk as targets', 26)\n",
      "('Liberty ships', 25)\n",
      "('World War II destroyers of the United Kingdom', 24)\n",
      "('Maritime incidents in 1969', 21)\n",
      "('Use dmy dates from October 2012', 21)\n",
      "('Ships built in the Netherlands', 20)\n",
      " \n",
      "Community 13/21 (364 pages) : \n",
      "('Carrier-based aircraft', 74)\n",
      "('Single-engined tractor aircraft', 57)\n",
      "('Low-wing aircraft', 42)\n",
      "('Single-engined jet aircraft', 42)\n",
      "('Breguet aircraft', 37)\n",
      "('Twinjets', 36)\n",
      "('Biplanes', 36)\n",
      "('Grumman aircraft', 32)\n",
      "('High-wing aircraft', 32)\n",
      "('Mid-wing aircraft', 27)\n",
      " \n",
      "Community 14/21 (296 pages) : \n",
      "('Fender electric guitars', 36)\n",
      "('Featured articles', 13)\n",
      "('Interlanguage link template link number', 10)\n",
      "('Rock and Roll Hall of Fame inductees', 9)\n",
      "('Grammy Award winners', 9)\n",
      "('American male guitarists', 8)\n",
      "('States of the United States', 8)\n",
      "('Alternative rock guitarists', 7)\n",
      "('American rock singers', 7)\n",
      "('Guitar stubs', 7)\n",
      " \n",
      "Community 15/21 (322 pages) : \n",
      "('MacOS', 69)\n",
      "('IOS (Apple)', 33)\n",
      "('Apple Inc. executives', 32)\n",
      "('Apple Inc. software', 25)\n",
      "('Apple Inc. services', 22)\n",
      "('Apple Inc.', 22)\n",
      "('IOS software', 21)\n",
      "('MacOS-only software made by Apple Inc.', 20)\n",
      "('Macintosh stubs', 20)\n",
      "('Apple Inc. acquisitions', 17)\n",
      " \n",
      "Community 16/21 (158 pages) : \n",
      "('Perry Como songs', 56)\n",
      "('Music infoboxes with deprecated parameters', 41)\n",
      "('Perry Como albums', 30)\n",
      "('Andy Williams songs', 18)\n",
      "('RCA Victor albums', 16)\n",
      "('The Lettermen songs', 15)\n",
      "('Best Original Song Academy Award-winning songs', 14)\n",
      "('Frank Sinatra songs', 13)\n",
      "('Pop standard stubs', 13)\n",
      "('Number-one singles in the United States', 11)\n",
      " \n",
      "Community 17/21 (141 pages) : \n",
      "('Social classes', 37)\n",
      "('Social groups', 10)\n",
      "('Social class in the United States', 8)\n",
      "('Social status', 7)\n",
      "('Employment classifications', 7)\n",
      "('Sociological terminology', 7)\n",
      "('Wealth in the United States', 5)\n",
      "('Social inequality', 5)\n",
      "('Working class', 5)\n",
      "('Class discrimination', 5)\n",
      " \n",
      "Community 18/21 (154 pages) : \n",
      "('Advanced Micro Devices x86 microprocessors', 48)\n",
      "('Single-board computers', 22)\n",
      "('Advanced Micro Devices microarchitectures', 19)\n",
      "('ARM architecture', 17)\n",
      "('Lists of microprocessors', 16)\n",
      "('System on a chip', 10)\n",
      "('X86 instructions', 10)\n",
      "('Linux-based devices', 10)\n",
      "('Embedded microprocessors', 9)\n",
      "('Microcontrollers', 8)\n",
      " \n",
      "Community 19/21 (275 pages) : \n",
      "('Professional baseball teams in Florida', 14)\n",
      "('Instances of Infobox university using image size', 12)\n",
      "('Florida State League teams', 11)\n",
      "('Indiana sport stubs', 10)\n",
      "('Football team templates which use American parameter', 8)\n",
      "('Summer Olympic sports', 7)\n",
      "('National League All-Stars', 7)\n",
      "('South Alabama Jaguars baseball players', 7)\n",
      "('Universities and colleges accredited by the Southern Association of Colleges and Schools', 6)\n",
      "('Sports originating in the United States', 6)\n",
      " \n",
      "Community 20/21 (297 pages) : \n",
      "('Character pop', 107)\n",
      "('Comics articles needing issue citations', 78)\n",
      "('Converting comics character infoboxes', 58)\n",
      "('Title pop', 56)\n",
      "('Marvel Comics superheroes', 53)\n",
      "('Comics navigational boxes purge', 44)\n",
      "('Archie Comics titles', 43)\n",
      "('Comics infobox without image', 43)\n",
      "('Characters created by Stan Lee', 35)\n",
      "('Marvel Comics supervillains', 32)\n",
      " \n",
      "Community 21/21 (133 pages) : \n",
      "('Liga MX seasons', 73)\n",
      "('Liga MX teams', 18)\n",
      "('Liga MX players', 12)\n",
      "('Chiapas F.C. managers', 11)\n",
      "('Mexican footballers', 10)\n",
      "('Ascenso MX teams', 10)\n",
      "('Mexican football managers', 8)\n",
      "('Football clubs in Mexico', 7)\n",
      "('Chiapas F.C. footballers', 7)\n",
      "('Atlante F.C. footballers', 7)\n"
     ]
    }
   ],
   "source": [
    "for i in range(k_spectral):\n",
    "    sorted_bag = sorted(spectral_bag[i].items(), key=operator.itemgetter(1), reverse=True)\n",
    "    print(' ')\n",
    "    print('Community {}/{} ({} pages) : '.format(i+1, k_spectral, spectral_counts[i]))\n",
    "    for ind in range(10):\n",
    "        print(sorted_bag[ind])"
   ]
  },
  {
   "cell_type": "markdown",
   "metadata": {},
   "source": [
    "It seems that we get the same results. As we asked for more communities than Louvain, some of them are split. For example `Electronics` in the Louvain case gets `Video Game Consoles` and `Micro technique devices`. It's a finer division."
   ]
  },
  {
   "cell_type": "code",
   "execution_count": 175,
   "metadata": {},
   "outputs": [],
   "source": [
    "spectral_modularity = community.modularity(spectral_partition, g)"
   ]
  },
  {
   "cell_type": "code",
   "execution_count": 176,
   "metadata": {},
   "outputs": [
    {
     "data": {
      "text/plain": [
       "0.6496636374651106"
      ]
     },
     "execution_count": 176,
     "metadata": {},
     "output_type": "execute_result"
    }
   ],
   "source": [
    "spectral_modularity"
   ]
  },
  {
   "cell_type": "markdown",
   "metadata": {},
   "source": [
    "Modularity is less than the Louvain modularity. \n",
    "\n",
    "What could be the advantages of the spectral approach ? \n",
    " - Computation cost ?\n",
    " - Measure of the feat of the community detection for the categories (broader problem involving NLP and topic detection).\n",
    " \n",
    "TODO:\n",
    "- Try other kernels\n",
    "- Try to sparsify"
   ]
  },
  {
   "cell_type": "markdown",
   "metadata": {},
   "source": [
    "### 3.2.3 Visualization"
   ]
  },
  {
   "cell_type": "code",
   "execution_count": null,
   "metadata": {},
   "outputs": [],
   "source": [
    "community2color = {\n",
    "    0: sns.xkcd_rgb[\"peach\"],\n",
    "    1: sns.xkcd_rgb[\"powder blue\"],\n",
    "    2: sns.xkcd_rgb[\"light pink\"],\n",
    "    3: sns.xkcd_rgb[\"chocolate\"],\n",
    "    4: sns.xkcd_rgb[\"orange\"],\n",
    "    5: sns.xkcd_rgb[\"magenta\"],\n",
    "    6: sns.xkcd_rgb[\"purple\"],\n",
    "    7: sns.xkcd_rgb[\"blue\"],\n",
    "    8: sns.xkcd_rgb[\"deep blue\"],\n",
    "    9: sns.xkcd_rgb[\"sky blue\"],\n",
    "    10: sns.xkcd_rgb[\"olive\"],\n",
    "    11: sns.xkcd_rgb[\"seafoam green\"],\n",
    "    12: sns.xkcd_rgb[\"tan\"],\n",
    "    13: sns.xkcd_rgb[\"mauve\"],\n",
    "    14: sns.xkcd_rgb[\"hot pink\"],\n",
    "    15: sns.xkcd_rgb[\"pale green\"],\n",
    "    16: sns.xkcd_rgb[\"indigo\"],\n",
    "    17: sns.xkcd_rgb[\"lavender\"],\n",
    "    18: sns.xkcd_rgb[\"eggplant\"],\n",
    "    19: sns.xkcd_rgb[\"brick\"],\n",
    "}"
   ]
  },
  {
   "cell_type": "code",
   "execution_count": null,
   "metadata": {
    "scrolled": true
   },
   "outputs": [],
   "source": [
    "position = nx.spring_layout(g)\n",
    "\n",
    "for comunity in set(louvain_partition.values()) :\n",
    "    list_nodes = [nodes for nodes in louvain_partition.keys()\n",
    "                                if partition[nodes] == comunity]\n",
    "    nx.draw_networkx_nodes(G, position, list_nodes, node_size = 20,\n",
    "                                node_color = community2color[comunity])\n",
    "\n",
    "\n",
    "nx.draw_networkx_edges(G, position, alpha=0.5)\n",
    "plt.show()\n"
   ]
  },
  {
   "cell_type": "code",
   "execution_count": null,
   "metadata": {},
   "outputs": [],
   "source": [
    "nx.set_node_attributes(G, partition, 'community')\n",
    "nx.set_node_attributes(G, node2category, 'category')\n"
   ]
  },
  {
   "cell_type": "code",
   "execution_count": null,
   "metadata": {},
   "outputs": [],
   "source": [
    "nx.write_gml(G, \"data/full_graph.gml\")\n"
   ]
  },
  {
   "cell_type": "code",
   "execution_count": null,
   "metadata": {},
   "outputs": [],
   "source": [
    "G = nx.read_gml(\"data/full_graph.gml\")"
   ]
  },
  {
   "cell_type": "code",
   "execution_count": null,
   "metadata": {},
   "outputs": [],
   "source": [
    "from IPython.display import Image, display\n"
   ]
  },
  {
   "cell_type": "code",
   "execution_count": null,
   "metadata": {},
   "outputs": [],
   "source": [
    "Communities by Louvain."
   ]
  },
  {
   "cell_type": "code",
   "execution_count": null,
   "metadata": {},
   "outputs": [],
   "source": [
    "display(Image(filename='data/louvain.png', embed=True))"
   ]
  },
  {
   "cell_type": "markdown",
   "metadata": {},
   "source": []
  },
  {
   "attachments": {
    "image.png": {
     "image/png": "[encoded data removed]"
    }
   },
   "cell_type": "markdown",
   "metadata": {},
   "source": [
    "![image.png](attachment:image.png)"
   ]
  },
  {
   "cell_type": "markdown",
   "metadata": {},
   "source": [
    "Communities by category\n"
   ]
  },
  {
   "cell_type": "code",
   "execution_count": null,
   "metadata": {},
   "outputs": [],
   "source": [
    "display(Image(filename='data/communities by category.png', embed=True))"
   ]
  },
  {
   "cell_type": "markdown",
   "metadata": {},
   "source": [
    "# 5) Conclusion"
   ]
  },
  {
   "cell_type": "markdown",
   "metadata": {},
   "source": [
    "Improvement for the study :\n",
    "\n",
    "- We used the measure of modularity as a performance of our algorithm. Need to find a measure of how the communities fit with the various categories. However need to work harder on categories of pages as the data we get from wikipidia is not really clean (NLP task on the categories, topic detection). "
   ]
  }
 ],
 "metadata": {
  "kernelspec": {
   "display_name": "Python 3",
   "language": "python",
   "name": "python3"
  },
  "language_info": {
   "codemirror_mode": {
    "name": "ipython",
    "version": 3
   },
   "file_extension": ".py",
   "mimetype": "text/x-python",
   "name": "python",
   "nbconvert_exporter": "python",
   "pygments_lexer": "ipython3",
   "version": "3.5.3"
  }
 },
 "nbformat": 4,
 "nbformat_minor": 2
}
